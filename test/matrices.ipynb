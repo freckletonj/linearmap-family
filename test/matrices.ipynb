{
 "cells": [
  {
   "cell_type": "code",
   "execution_count": 1,
   "metadata": {
    "collapsed": true
   },
   "outputs": [],
   "source": [
    "{-# LANGUAGE TypeOperators #-}\n",
    "import Math.LinearMap.Category\n",
    "import Data.VectorSpace\n",
    "import Data.VectorSpace.Free\n",
    "import Linear (V2(..),V3(..),ex,ey,ez)\n",
    "import Control.Category.Constrained.Prelude\n",
    "import Control.Arrow.Constrained\n",
    "import Prelude ()\n",
    ":opt no-lint"
   ]
  },
  {
   "cell_type": "code",
   "execution_count": 2,
   "metadata": {
    "collapsed": true
   },
   "outputs": [],
   "source": [
    "type ℝ = Double\n",
    "type ℝ² = V2 ℝ\n",
    "type ℝ³ = V3 ℝ"
   ]
  },
  {
   "cell_type": "code",
   "execution_count": 3,
   "metadata": {
    "collapsed": false
   },
   "outputs": [
    {
     "data": {
      "text/plain": [
       "ex.<V3 1.0 1.0 1.0 ^+^ ey.<V3 0.0 2.0 1.0 ^+^ ez.<V3 0.0 0.0 3.0"
      ]
     },
     "metadata": {},
     "output_type": "display_data"
    }
   ],
   "source": [
    "m :: LinearMap ℝ ℝ³ ℝ³\n",
    "m =  ex.<V3 1 1 1\n",
    " ^+^ ey.<V3 0 2 1\n",
    " ^+^ ez.<V3 0 0 3\n",
    "m"
   ]
  },
  {
   "cell_type": "code",
   "execution_count": 4,
   "metadata": {
    "collapsed": false
   },
   "outputs": [
    {
     "data": {
      "text/plain": [
       "[V3 1.0 0.0 0.0,V3 1.0 2.0 0.0,V3 1.0 1.0 3.0]"
      ]
     },
     "metadata": {},
     "output_type": "display_data"
    }
   ],
   "source": [
    "(m$) <$> [V3 1 0 0, V3 0 1 0, V3 0 0 1]"
   ]
  },
  {
   "cell_type": "code",
   "execution_count": 5,
   "metadata": {
    "collapsed": false
   },
   "outputs": [
    {
     "data": {
      "text/plain": [
       "V3 2.0 1.0 3.0"
      ]
     },
     "metadata": {},
     "output_type": "display_data"
    }
   ],
   "source": [
    "m $ V3 1 0 1"
   ]
  },
  {
   "cell_type": "code",
   "execution_count": 6,
   "metadata": {
    "collapsed": false
   },
   "outputs": [
    {
     "data": {
      "text/plain": [
       "(V3 1.0 2.0 0.0,V3 0.5 1.0 0.0)"
      ]
     },
     "metadata": {},
     "output_type": "display_data"
    }
   ],
   "source": [
    "m &&& m^/2 $ V3 0 1 0"
   ]
  },
  {
   "cell_type": "code",
   "execution_count": 7,
   "metadata": {
    "collapsed": false
   },
   "outputs": [
    {
     "data": {
      "text/plain": [
       "V3 0.8333333333333334 (-0.16666666666666666) 0.3333333333333333"
      ]
     },
     "metadata": {},
     "output_type": "display_data"
    }
   ],
   "source": [
    "m \\$ V3 1 0 1"
   ]
  },
  {
   "cell_type": "code",
   "execution_count": 8,
   "metadata": {
    "collapsed": false
   },
   "outputs": [
    {
     "data": {
      "text/plain": [
       "V3 1.0 0.0 1.0"
      ]
     },
     "metadata": {},
     "output_type": "display_data"
    }
   ],
   "source": [
    "m $ m \\$ V3 1 0 1"
   ]
  },
  {
   "cell_type": "code",
   "execution_count": 9,
   "metadata": {
    "collapsed": false
   },
   "outputs": [
    {
     "data": {
      "text/plain": [
       "(V3 1.0 2.0 3.0,V3 4.0 5.0 6.0)"
      ]
     },
     "metadata": {},
     "output_type": "display_data"
    }
   ],
   "source": [
    "mm = m *** m\n",
    "mm $ mm \\$ (V3 1 2 3,V3 4 5 6)"
   ]
  },
  {
   "cell_type": "code",
   "execution_count": 10,
   "metadata": {
    "collapsed": false
   },
   "outputs": [
    {
     "data": {
      "text/plain": [
       "ex.<V3 3.0 0.0 0.0 ^+^ ey.<V3 0.0 3.0 0.0 ^+^ ez.<V3 0.0 0.0 3.0"
      ]
     },
     "metadata": {},
     "output_type": "display_data"
    }
   ],
   "source": [
    "sampleLinearFunction $ (scale $ 3) :: ℝ³+>ℝ³"
   ]
  },
  {
   "cell_type": "markdown",
   "metadata": {},
   "source": [
    "A Hermitian operator whose eigenvalues we which to compute:"
   ]
  },
  {
   "cell_type": "code",
   "execution_count": 11,
   "metadata": {
    "collapsed": false
   },
   "outputs": [
    {
     "data": {
      "text/plain": [
       "(3.8460273577607986,V3 0.22928460979787718 (-0.27970938645743565) (-0.9323042565801363))\n",
       "(1.2569135004904985,V3 0.9258925256982659 0.3581347111793845 0.1202603821070982)\n",
       "(-3.1029408582512956,V3 0.3002525579673246 (-0.890787397629796) 0.34109560779642784)"
      ]
     },
     "metadata": {},
     "output_type": "display_data"
    }
   ],
   "source": [
    "h :: ℝ³ +> ℝ³\n",
    "h =       ex.<V3  1   1 (-1)\n",
    "      ^+^ ey.<V3  1 (-2)  2\n",
    "      ^+^ ez.<V3(-1)  2   3\n",
    "\n",
    "mapM_ print $ eigen h"
   ]
  },
  {
   "cell_type": "markdown",
   "metadata": {},
   "source": [
    "Details about the eigensystem computation steps:"
   ]
  },
  {
   "cell_type": "code",
   "execution_count": 12,
   "metadata": {
    "collapsed": false
   },
   "outputs": [
    {
     "data": {
      "text/plain": [
       "λ = 3.00000,\t±0.2\t: V3 0.2672612419124244 0.5345224838248488 0.8017837257372732\n",
       "\n",
       "λ = 3.64706,\t±6.6e-2\t: V3 0.0 0.24253562503633297 0.9701425001453319\n",
       "λ = 1.96078e-2,\t±10624.9\t: V3 0.6362090102803517 0.7484811885651197 (-0.18712029714127998)\n",
       "\n",
       "λ = 3.77178,\t±3.2e-2\t: V3 (-0.1932469879202493) 0.3864939758404986 0.9018192769611634\n",
       "λ = -1.75202,\t±1.3\t: V3 0.7532587103138626 (-0.530520919629656) 0.38877868919425174\n",
       "\n",
       "λ = 3.80390,\t±2.0e-2\t: V3 (-0.1849065960950487) 0.21852597720323938 0.9581523615834342\n",
       "λ = -2.77486,\t±0.2\t: V3 6.367375813173522e-2 (-0.9702520717258096) 0.23357347845411602\n",
       "λ = 0.97096,\t±1.3\t: V3 (-0.9806911864832496) (-0.10419843856384559) (-0.1654916377190483)\n",
       "\n",
       "λ = 3.81924,\t±1.3e-2\t: V3 (-0.24068696606683043) 0.33696175249356264 0.910234344398195\n",
       "λ = -3.02611,\t±4.3e-2\t: V3 0.3842806943452703 (-0.8280881839570452) 0.40816455939270363\n",
       "λ = 1.20688,\t±0.2\t: V3 (-0.891290150466761) (-0.4480253753384845) (-6.982213641638726e-2)\n",
       "\n",
       "λ = 3.82864,\t±8.2e-3\t: V3 (-0.211783297759486) 0.23569431524846018 0.9484703603959779\n",
       "λ = -3.07723,\t±1.6e-2\t: V3 0.2702692746977899 (-0.918512739415293) 0.28859810582563555\n",
       "λ = 1.24859,\t±2.3e-2\t: V3 (-0.9392030419160957) (-0.3174626549554666) (-0.1308247253548766)\n",
       "\n",
       "λ = 3.83471,\t±5.3e-3\t: V3 (-0.24049890797845316) 0.3157288619520088 0.9178646746616086\n",
       "λ = -3.09025,\t±8.8e-3\t: V3 0.30720109873608925 (-0.8722517573034492) 0.3805316764953798\n",
       "λ = 1.25554,\t±3.8e-3\t: V3 (-0.9207539085969231) (-0.37348648919543825) (-0.11278334181941414)\n",
       "\n",
       "λ = 3.83866,\t±3.5e-3\t: V3 (-0.21915459952955602) 0.2506604804461073 0.9429425141797173\n",
       "λ = -3.09534,\t±5.4e-3\t: V3 0.30087104049234475 (-0.9019776887711984) 0.30969802381032585\n",
       "λ = 1.25669,\t±6.2e-4\t: V3 (-0.9281421650254306) (-0.35157584174896594) (-0.12225607960511514)\n",
       "\n",
       "λ = 3.84123,\t±2.3e-3\t: V3 (-0.23702521157844098) 0.30307255121452287 0.9230200852508659\n",
       "λ = -3.09810,\t±3.5e-3\t: V3 0.296819400534025 (-0.8820730586817872) 0.36584882480934433\n",
       "λ = 1.25688,\t±1.0e-4\t: V3 (-0.9250498865157583) (-0.3606856634911854) (-0.11911574039188094)\n",
       "\n",
       "λ = 3.84290,\t±1.5e-3\t: V3 (-0.2228471089266803) 0.26078617936575116 0.9393240839533683\n",
       "λ = -3.09981,\t±2.3e-3\t: V3 0.30394747496282126 (-0.8969355902131285) 0.32112688998704597\n",
       "λ = 1.25691,\t±1.7e-5\t: V3 (-0.9262586563734482) (-0.3570673825216207) (-0.12061420244901987)\n",
       "\n",
       "λ = 3.84399,\t±9.6e-4\t: V3 (-0.23438620846062652) 0.29493231038089174 0.9263250172465609\n",
       "λ = -3.10091,\t±1.5e-3\t: V3 0.2967234798137083 (-0.8856933161580737) 0.35707495885340196\n",
       "λ = 1.25691,\t±2.8e-6\t: V3 (-0.9257528189590867) (-0.3585558282977759) (-0.12008095678749493)\n",
       "\n",
       "λ = 3.84470,\t±6.2e-4\t: V3 (-0.22512142438495616) 0.26740625098226845 0.936917414299946\n",
       "λ = -3.10162,\t±9.6e-4\t: V3 0.3032045774341802 (-0.8946275051873059) 0.32818990110193386\n",
       "λ = 1.25691,\t±4.5e-7\t: V3 (-0.9259521199856117) (-0.3579602266983651) (-0.120321018929389)"
      ]
     },
     "metadata": {},
     "output_type": "display_data"
    }
   ],
   "source": [
    "esyss = constructEigenSystem euclideanNorm 1e-8 (arr h) [V3 1 2 3]\n",
    "\n",
    "import Numeric (showGFloat)\n",
    "\n",
    "forM_ (take 12 esyss) $ \\vs -> do\n",
    "   forM_ vs $ \\ev -> putStrLn $ \"λ = \" ++ showGFloat (Just 5) (ev_Eigenvalue ev)\n",
    "                                \",\\t±\" ++ showGFloat (Just 1) (ev_Badness ev)\n",
    "                                \"\\t: \" ++ show (ev_Eigenvector ev)\n",
    "   putStrLn \"\""
   ]
  },
  {
   "cell_type": "code",
   "execution_count": 13,
   "metadata": {
    "collapsed": false
   },
   "outputs": [
    {
     "data": {
      "text/plain": [
       "V3 (-0.9460447951977673) 2.7822600298366593 (-0.9968852355696496)"
      ]
     },
     "metadata": {},
     "output_type": "display_data"
    },
    {
     "data": {
      "text/plain": [
       "V3 (-0.9201114914238139) 2.7464513377436455 (-1.107255728960085)"
      ]
     },
     "metadata": {},
     "output_type": "display_data"
    }
   ],
   "source": [
    "v = ev_Eigenvector $ esyss!!10!!1\n",
    "h $ v\n",
    "v ^* ((h$v)<.>v)"
   ]
  },
  {
   "cell_type": "code",
   "execution_count": 14,
   "metadata": {
    "collapsed": false
   },
   "outputs": [
    {
     "data": {
      "text/plain": [
       "[3.6130717232903162,-2.9012007304789704,1.2881290071886538]"
      ]
     },
     "metadata": {},
     "output_type": "display_data"
    },
    {
     "data": {
      "text/plain": [
       "[3.06628901267476,-6.657612050870484e-2,2.871078339452375e-4]"
      ]
     },
     "metadata": {},
     "output_type": "display_data"
    },
    {
     "data": {
      "text/plain": [
       "[3.000000000000001,1.232595164407831e-32,1.232595164407831e-32]"
      ]
     },
     "metadata": {},
     "output_type": "display_data"
    },
    {
     "data": {
      "text/plain": [
       "[1.094948537734607,0.9872809799077533,0.9177704823576396]"
      ]
     },
     "metadata": {},
     "output_type": "display_data"
    },
    {
     "data": {
      "text/plain": [
       "[1.0,1.0,1.0]"
      ]
     },
     "metadata": {},
     "output_type": "display_data"
    }
   ],
   "source": [
    "ev_Eigenvalue <$> roughEigenSystem euclideanNorm\n",
    "     (    ex.<V3  1   1 (-1)\n",
    "      ^+^ ey.<V3  1 (-2)  2\n",
    "      ^+^ ez.<V3(-1)  2   3 :: ℝ³+>ℝ³ )\n",
    "ev_Eigenvalue <$> roughEigenSystem euclideanNorm\n",
    "     (    ex.<V3  1   1.1   1\n",
    "      ^+^ ey.<V3  1   1   1.1\n",
    "      ^+^ ez.<V3  1   1   1 :: ℝ³+>ℝ³ )\n",
    "ev_Eigenvalue <$> roughEigenSystem euclideanNorm\n",
    "     (    ex.<V3  1   1   1\n",
    "      ^+^ ey.<V3  1   1   1\n",
    "      ^+^ ez.<V3  1   1   1 :: ℝ³+>ℝ³ )\n",
    "ev_Eigenvalue <$> roughEigenSystem euclideanNorm\n",
    "     (    ex.<V3  1   0   0.1\n",
    "      ^+^ ey.<V3  0.2   1   0\n",
    "      ^+^ ez.<V3  0   0.1   1 :: ℝ³+>ℝ³ )\n",
    "ev_Eigenvalue <$> roughEigenSystem euclideanNorm\n",
    "     (    ex.<V3  1   0   0\n",
    "      ^+^ ey.<V3  0   1   0\n",
    "      ^+^ ez.<V3  0   0   1 :: ℝ³+>ℝ³ )"
   ]
  },
  {
   "cell_type": "code",
   "execution_count": 15,
   "metadata": {
    "collapsed": false
   },
   "outputs": [
    {
     "data": {
      "text/plain": [
       "λ = 3.61307,\t±7.0e-2\t: V3 0.41076720765548536 (-8.612860805679518e-2) (-0.9076630233677663)\n",
       "λ = -2.90120,\t±0.1\t: V3 0.4935071413760619 (-0.8160783323990003) 0.30077708822264826\n",
       "λ = 1.28813,\t±0.6\t: V3 0.7666296384341941 0.5714875486509449 0.29271313467487414\n",
       "\n",
       "λ = 3.83909,\t±3.3e-3\t: V3 0.2359990891321422 (-0.3087237953165698) (-0.9214087302246122)\n",
       "λ = 1.25679,\t±4.3e-4\t: V3 0.9282199015441487 0.35224177075687974 0.11972280196950333\n",
       "λ = -3.09587,\t±5.1e-3\t: V3 0.2875973649152064 (-0.8835243930641593) 0.3696923079459987\n",
       "\n",
       "λ = 3.84603,\t±1.5e-9\t: V3 0.22928460979787718 (-0.27970938645743565) (-0.9323042565801363)\n",
       "λ = 1.25691,\t±9.8e-13\t: V3 0.9258925256982659 0.3581347111793845 0.1202603821070982\n",
       "λ = -3.10294,\t±2.4e-9\t: V3 0.3002525579673246 (-0.890787397629796) 0.34109560779642784"
      ]
     },
     "metadata": {},
     "output_type": "display_data"
    }
   ],
   "source": [
    "rough = roughEigenSystem euclideanNorm h\n",
    "forM_ (take 3 $ iterate (finishEigenSystem euclideanNorm) rough) $ \\vs -> do\n",
    "   forM_ vs $ \\ev -> putStrLn $ \"λ = \" ++ showGFloat (Just 5) (ev_Eigenvalue ev)\n",
    "                                \",\\t±\" ++ showGFloat (Just 1) (ev_Badness ev)\n",
    "                                \"\\t: \" ++ show (ev_Eigenvector ev)\n",
    "   putStrLn \"\""
   ]
  },
  {
   "cell_type": "code",
   "execution_count": 16,
   "metadata": {
    "collapsed": false
   },
   "outputs": [
    {
     "data": {
      "text/plain": [
       "[0.0,0.5,1.0,1.0,1.0]"
      ]
     },
     "metadata": {},
     "output_type": "display_data"
    },
    {
     "data": {
      "text/plain": [
       "[0.0,0.7071067811865476,1.4142135623730951,1.4142135623730951,1.4142135623730951]"
      ]
     },
     "metadata": {},
     "output_type": "display_data"
    },
    {
     "data": {
      "text/plain": [
       "[0.0,0.5,1.0,1.4142135623730951,1.4142135623730951]"
      ]
     },
     "metadata": {},
     "output_type": "display_data"
    }
   ],
   "source": [
    "map (spanNorm [V2 1 0, V2 0 1] |$|)\n",
    "   [V2 0 0, V2 0 0.5, V2 0 1, V2 1 0, V2 (-1) 0 :: ℝ²]\n",
    "map (spanNorm [V2 1 1, V2 1 (-1)] |$|)\n",
    "   [V2 0 0, V2 0 0.5, V2 0 1, V2 1 0, V2 (-1) 0 :: ℝ²]\n",
    "map (spanNorm [V2 1 0, V2 0 1, V2 1 0] |$|)\n",
    "   [V2 0 0, V2 0 0.5, V2 0 1, V2 1 0, V2 (-1) 0 :: ℝ²]"
   ]
  },
  {
   "cell_type": "code",
   "execution_count": 17,
   "metadata": {
    "collapsed": false
   },
   "outputs": [
    {
     "data": {
      "text/plain": [
       "spanNorm [V2 1.0 0.0,V2 0.0 1.0]"
      ]
     },
     "metadata": {},
     "output_type": "display_data"
    },
    {
     "data": {
      "text/plain": [
       "spanNorm [V2 1.0 0.0,V2 0.0 2.0]"
      ]
     },
     "metadata": {},
     "output_type": "display_data"
    },
    {
     "data": {
      "text/plain": [
       "spanNorm [V2 1.4142135623730951 0.7071067811865475,V2 0.0 0.7071067811865476]"
      ]
     },
     "metadata": {},
     "output_type": "display_data"
    },
    {
     "data": {
      "text/plain": [
       "spanNorm [V2 1.4142135623730951 0.7071067811865475,V2 0.0 0.7071067811865476]"
      ]
     },
     "metadata": {},
     "output_type": "display_data"
    }
   ],
   "source": [
    "spanNorm [V2 1 0, V2 0 1] :: Norm ℝ²\n",
    "spanNorm [V2 1 0, V2 0 2] :: Norm ℝ²\n",
    "spanNorm [V2 1 0, V2 1 1] :: Norm ℝ²\n",
    "spanNorm [V2 1.4142135623730951 0.7071067811865475,V2 0.0 0.7071067811865476] :: Norm ℝ²"
   ]
  },
  {
   "cell_type": "code",
   "execution_count": 18,
   "metadata": {
    "collapsed": false
   },
   "outputs": [
    {
     "data": {
      "text/plain": [
       "spanNorm [V2 1.0 0.0,V2 0.0 1.0]"
      ]
     },
     "metadata": {},
     "output_type": "display_data"
    },
    {
     "data": {
      "text/plain": [
       "spanNorm [V2 1.0 0.0,V2 0.0 2.0]"
      ]
     },
     "metadata": {},
     "output_type": "display_data"
    }
   ],
   "source": [
    "shSys = sharedNormSpanningSystem (spanNorm [V2 1 0, V2 0 1]) (spanNorm [V2 1 0, V2 0 2] :: Norm ℝ²)\n",
    "spanNorm $ fst<$>shSys           :: Norm ℝ²\n",
    "spanNorm [η*^dv | (dv,η)<-shSys] :: Norm ℝ²"
   ]
  },
  {
   "cell_type": "code",
   "execution_count": null,
   "metadata": {
    "collapsed": true
   },
   "outputs": [],
   "source": []
  }
 ],
 "metadata": {
  "kernelspec": {
   "display_name": "Haskell",
   "language": "haskell",
   "name": "haskell"
  },
  "language_info": {
   "codemirror_mode": "ihaskell",
   "file_extension": ".hs",
   "name": "haskell",
   "version": "7.10.2"
  }
 },
 "nbformat": 4,
 "nbformat_minor": 0
}
