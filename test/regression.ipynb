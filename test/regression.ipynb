{
 "cells": [
  {
   "cell_type": "code",
   "execution_count": 1,
   "metadata": {
    "collapsed": true
   },
   "outputs": [],
   "source": [
    "{-# LANGUAGE TypeOperators, ParallelListComp #-}\n",
    ":opt no-lint"
   ]
  },
  {
   "cell_type": "code",
   "execution_count": 2,
   "metadata": {
    "collapsed": true
   },
   "outputs": [],
   "source": [
    "import Data.VectorSpace\n",
    "import Math.LinearMap.Category\n",
    "import Prelude ()\n",
    "import Control.Category.Constrained.Prelude\n",
    "type ℝ = Double"
   ]
  },
  {
   "cell_type": "code",
   "execution_count": 3,
   "metadata": {
    "collapsed": false
   },
   "outputs": [],
   "source": [
    "import System.Random\n",
    "import Control.Monad (replicateM)\n",
    "randomPoints <- replicateM 100 $ randomRIO (0,10) :: IO [ℝ]\n",
    "randomDeviations <- cycle <$> replicateM 165 `id` randomRIO (-0.1, 0.1) :: IO [ℝ]"
   ]
  },
  {
   "cell_type": "code",
   "execution_count": 4,
   "metadata": {
    "collapsed": false
   },
   "outputs": [
    {
     "data": {
      "text/plain": [
       "(1.0,1.0)\n",
       "(-2.0,1.9999999999999996)\n",
       "(14.301765013770101,2.892499547436387)"
      ]
     },
     "metadata": {},
     "output_type": "display_data"
    }
   ],
   "source": [
    "mapM_ print (\n",
    " linearRegressionW euclideanNorm\n",
    "    (\\x -> lfun $ \\(a,b) -> a*x + b)\n",
    " <$> [ [(0,1), (1,2), (2,3)]\n",
    "     , [(-2,6), (0,2), (1,0)]\n",
    "     , [(x, 14.3*x + 2.9 + δy) | x<-randomPoints\n",
    "                               | δy<-randomDeviations]\n",
    "     :: [(ℝ,ℝ)] ])"
   ]
  },
  {
   "cell_type": "code",
   "execution_count": 5,
   "metadata": {
    "collapsed": false
   },
   "outputs": [
    {
     "data": {
      "text/plain": [
       "((SymTensor {getSymmetricTensor = ex.⊗V2 2.043138635698938e-5 0.5000126890628956 ^+^ ey.⊗V2 0.5000126890628956 (-1.0788455462318325e-6)},V2 2.9995558089160568 1.9998666103965093),3.999295269711183)"
      ]
     },
     "metadata": {},
     "output_type": "display_data"
    }
   ],
   "source": [
    "import Linear.V2 (V2(..))\n",
    "\n",
    "mapM_ print (\n",
    " linearRegressionW euclideanNorm\n",
    "    (\\v -> lfun $ \\((a,b),c) -> a<.>^squareV v + b<.>^v + c)\n",
    " <$> [ [ (V2 x y, 3*x + 2*y + x*y + 4 + δy)\n",
    "       | x<-randomPoints\n",
    "       , y<-randomPoints\n",
    "       | δy<-randomDeviations ]\n",
    "     ] )"
   ]
  },
  {
   "cell_type": "code",
   "execution_count": null,
   "metadata": {
    "collapsed": true
   },
   "outputs": [],
   "source": []
  }
 ],
 "metadata": {
  "kernelspec": {
   "display_name": "Haskell",
   "language": "haskell",
   "name": "haskell"
  },
  "language_info": {
   "codemirror_mode": "ihaskell",
   "file_extension": ".hs",
   "name": "haskell",
   "version": "7.10.2"
  }
 },
 "nbformat": 4,
 "nbformat_minor": 0
}
