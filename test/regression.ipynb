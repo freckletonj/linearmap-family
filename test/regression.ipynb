{
 "cells": [
  {
   "cell_type": "code",
   "execution_count": 1,
   "metadata": {
    "collapsed": true
   },
   "outputs": [],
   "source": [
    "{-# LANGUAGE TypeOperators, ParallelListComp, ScopedTypeVariables, Rank2Types, UnicodeSyntax #-}\n",
    ":opt no-lint"
   ]
  },
  {
   "cell_type": "code",
   "execution_count": 2,
   "metadata": {
    "collapsed": true
   },
   "outputs": [],
   "source": [
    "import Data.VectorSpace\n",
    "import Math.LinearMap.Category\n",
    "import Prelude ()\n",
    "import Control.Category.Constrained.Prelude\n",
    "type ℝ = Double"
   ]
  },
  {
   "cell_type": "code",
   "execution_count": 3,
   "metadata": {
    "collapsed": false
   },
   "outputs": [],
   "source": [
    "import System.Random\n",
    "import Control.Monad (replicateM)\n",
    "randomPoints <- replicateM 100 $ randomRIO (0,10) :: IO [ℝ]\n",
    "randomDeviations <- cycle <$> replicateM 165 `id` randomRIO (-0.1, 0.1) :: IO [ℝ]"
   ]
  },
  {
   "cell_type": "code",
   "execution_count": 4,
   "metadata": {
    "collapsed": false
   },
   "outputs": [
    {
     "data": {
      "text/plain": [
       "(1.0,1.0)\n",
       "(-2.0,1.9999999999999996)\n",
       "(14.30043273454546,2.902335291125837)"
      ]
     },
     "metadata": {},
     "output_type": "display_data"
    }
   ],
   "source": [
    "mapM_ print (\n",
    " linearRegressionW euclideanNorm\n",
    "    (\\x -> lfun $ \\(a,b) -> a*x + b)\n",
    " <$> [ [(0,1), (1,2), (2,3)]\n",
    "     , [(-2,6), (0,2), (1,0)]\n",
    "     , [(x, 14.3*x + 2.9 + δy) | x<-randomPoints\n",
    "                               | δy<-randomDeviations]\n",
    "     :: [(ℝ,ℝ)] ])"
   ]
  },
  {
   "cell_type": "code",
   "execution_count": 5,
   "metadata": {
    "collapsed": false
   },
   "outputs": [
    {
     "data": {
      "text/plain": [
       "((SymTensor {getSymmetricTensor = ex.⊗V2 (-2.713331492287807e-5) 0.49999168286288986 ^+^ ey.⊗V2 0.49999168286288986 (-7.795338426497267e-5)},V2 3.0006562070987 2.0013599416106445),3.9914182545917356)"
      ]
     },
     "metadata": {},
     "output_type": "display_data"
    }
   ],
   "source": [
    "import Linear.V2 (V2(..))\n",
    "\n",
    "mapM_ print (\n",
    " linearRegressionW euclideanNorm\n",
    "    (\\v -> lfun $ \\((a,b),c) -> a<.>^squareV v + b<.>^v + c)\n",
    " <$> [ [ (V2 x y, 3*x + 2*y + x*y + 4 + δy)\n",
    "       | x<-randomPoints\n",
    "       , y<-randomPoints\n",
    "       | δy<-randomDeviations ]\n",
    "     ] )"
   ]
  },
  {
   "cell_type": "code",
   "execution_count": 6,
   "metadata": {
    "collapsed": false
   },
   "outputs": [],
   "source": [
    "import Data.List (sort)\n",
    "newtype Take = Take (∀ a . Int -> [a] -> [a])\n",
    "takeSome' <- do\n",
    "   randomIndices <- replicateM 10000 $ randomRIO (0, 10000)\n",
    "   return $ Take (\\n xs -> let l = length xs\n",
    "                               go (i₀:i₁:is) xs'\n",
    "                                | (e:es, r) <- splitAt (i₁-i₀) xs'  = e : go (i₁:is) r\n",
    "                               go (i₀:is) (x₀:xs')  = x₀ : go is xs'\n",
    "                               go _ _ = []\n",
    "                           in go (sort . take n $ (`mod`l)<$>randomIndices) xs)\n",
    "takeSome :: Int -> [a] -> [a]\n",
    "Take takeSome = takeSome'"
   ]
  },
  {
   "cell_type": "code",
   "execution_count": 7,
   "metadata": {
    "collapsed": false
   },
   "outputs": [
    {
     "data": {
      "text/plain": [
       "((SymTensor {getSymmetricTensor = ex.⊗V2 (-1.7290049956159237e-2) 0.5027204848637447 ^+^ ey.⊗V2 0.5027204848637447 3.681908803855549e-3},V2 3.1186021763332974 1.9477810839598533),3.9534446992038283)"
      ]
     },
     "metadata": {},
     "output_type": "display_data"
    }
   ],
   "source": [
    "mapM_ print (\n",
    " linearRegressionW euclideanNorm\n",
    "    (\\v -> lfun $ \\((a,b),c) -> a<.>^squareV v + b<.>^v + c)\n",
    " <$> [ takeSome 6 $ [ (V2 x y, 3*x + 2*y + x*y + 4 + δy)\n",
    "       | x<-randomPoints\n",
    "       , y<-randomPoints\n",
    "       | δy<-randomDeviations ]\n",
    "     ] )"
   ]
  },
  {
   "cell_type": "code",
   "execution_count": null,
   "metadata": {
    "collapsed": true
   },
   "outputs": [],
   "source": []
  }
 ],
 "metadata": {
  "kernelspec": {
   "display_name": "Haskell",
   "language": "haskell",
   "name": "haskell"
  },
  "language_info": {
   "codemirror_mode": "ihaskell",
   "file_extension": ".hs",
   "name": "haskell",
   "version": "7.10.2"
  }
 },
 "nbformat": 4,
 "nbformat_minor": 0
}
