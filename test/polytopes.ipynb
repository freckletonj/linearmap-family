{
 "cells": [
  {
   "cell_type": "code",
   "execution_count": 1,
   "metadata": {
    "collapsed": true
   },
   "outputs": [],
   "source": [
    "import Math.LinearMap.Category\n",
    "import Data.VectorSpace\n",
    "import Linear.V2"
   ]
  },
  {
   "cell_type": "code",
   "execution_count": 2,
   "metadata": {
    "collapsed": false
   },
   "outputs": [],
   "source": [
    "import Graphics.Dynamic.Plot.R2\n",
    "import qualified Diagrams.Prelude as Dia"
   ]
  },
  {
   "cell_type": "code",
   "execution_count": 3,
   "metadata": {
    "collapsed": false
   },
   "outputs": [],
   "source": [
    "type ℝ² = V2 Double\n",
    "vPlot :: ℝ² -> DynamicPlottable\n",
    "vPlot v = shapePlot (Dia.moveTo (Dia.P v) $ Dia.circle 0.02)\n",
    "\n",
    "dualVPlot :: DualVector ℝ² -> DynamicPlottable\n",
    "dualVPlot dv = plot\n",
    "       [ continFnPlot $ \\x -> recip dy - x * dx / (dy + 1e-12)\n",
    "       | V2 dx dy <- [dv, negateV dv] ]"
   ]
  },
  {
   "cell_type": "code",
   "execution_count": 4,
   "metadata": {
    "collapsed": false
   },
   "outputs": [
    {
     "data": {
      "text/plain": [
       "[V2 2.7755575615628914e-17 1.0,V2 0.5 (-1.0),V2 (-1.0) 5.551115123125783e-17,V2 1.5 1.0]\n",
       "GraphWindowSpecR2{lBound=-1.4433333333333334, rBound=1.9433333333333334, bBound=-4.87600000000273, tBound=5.875999999994594, xResolution=640, yResolution=480}"
      ]
     },
     "metadata": {},
     "output_type": "display_data"
    }
   ],
   "source": [
    "let dvs = [V2 0 1, V2 1 1, V2 1 (-0.5)]\n",
    "    vs = symmetricPolytopeOuterVertices dvs :: [ℝ²]\n",
    " in do\n",
    "  print vs\n",
    "  plotWindow $ map dualVPlot dvs ++ map vPlot vs"
   ]
  },
  {
   "cell_type": "code",
   "execution_count": null,
   "metadata": {
    "collapsed": true
   },
   "outputs": [],
   "source": []
  }
 ],
 "metadata": {
  "kernelspec": {
   "display_name": "Haskell",
   "language": "haskell",
   "name": "haskell"
  },
  "language_info": {
   "codemirror_mode": "ihaskell",
   "file_extension": ".hs",
   "name": "haskell",
   "version": "7.10.2"
  }
 },
 "nbformat": 4,
 "nbformat_minor": 0
}
