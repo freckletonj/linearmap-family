{
 "cells": [
  {
   "cell_type": "code",
   "execution_count": 1,
   "metadata": {
    "collapsed": true
   },
   "outputs": [],
   "source": [
    ":opt no-lint\n",
    "{-# LANGUAGE TypeOperators #-}"
   ]
  },
  {
   "cell_type": "code",
   "execution_count": 2,
   "metadata": {
    "collapsed": true
   },
   "outputs": [],
   "source": [
    "import Math.LinearMap.Category\n",
    "import Data.VectorSpace\n",
    "import Prelude ()\n",
    "import Control.Category.Constrained.Prelude\n",
    "import Control.Arrow.Constrained\n",
    "type ℝ = Double\n",
    "import Linear.V2 (V2(..))\n",
    "type ℝ² = V2 ℝ"
   ]
  },
  {
   "cell_type": "code",
   "execution_count": 3,
   "metadata": {
    "collapsed": false
   },
   "outputs": [
    {
     "data": {
      "text/plain": [
       "ex.⊗V2 1.0 0.0 ^+^ ey.⊗V2 0.0 1.0"
      ]
     },
     "metadata": {},
     "output_type": "display_data"
    },
    {
     "data": {
      "text/plain": [
       "ex.⊗V2 0.0 1.0 ^+^ ey.⊗V2 1.0 0.0"
      ]
     },
     "metadata": {},
     "output_type": "display_data"
    }
   ],
   "source": [
    "type ST² = SymmetricTensor ℝ ℝ²\n",
    "\n",
    "diagT, offdiagT :: ST²\n",
    "diagT = squareV (V2 1 0)\n",
    "    ^+^ squareV (V2 0 1)\n",
    "offdiagT = squareV (V2 1 1)\n",
    "       ^-^ diagT\n",
    "getSymmetricTensor diagT\n",
    "getSymmetricTensor offdiagT"
   ]
  },
  {
   "cell_type": "code",
   "execution_count": 4,
   "metadata": {
    "collapsed": false
   },
   "outputs": [
    {
     "data": {
      "text/plain": [
       "[1.0,0.0,1.0]\n",
       "[0.0,1.4142135623730951,0.0]"
      ]
     },
     "metadata": {},
     "output_type": "display_data"
    }
   ],
   "source": [
    "forM_ [diagT,offdiagT] $ \\t ->\n",
    "  print $ ($[]) . snd $ decomposeLinMap (arr $ LinearFunction (<.>^t))"
   ]
  },
  {
   "cell_type": "code",
   "execution_count": 5,
   "metadata": {
    "collapsed": false
   },
   "outputs": [
    {
     "data": {
      "text/plain": [
       "[1.0,0.0,0.0]\n",
       "[0.0,1.0000000000000002,0.0]\n",
       "[0.0,0.0,1.0]"
      ]
     },
     "metadata": {},
     "output_type": "display_data"
    }
   ],
   "source": [
    "forM_ (enumerateSubBasis (entireBasis :: SubBasis ST²)) $ \\t ->\n",
    "  print $ ($[]) . snd $ decomposeLinMap (arr $ LinearFunction (<.>^t))"
   ]
  },
  {
   "cell_type": "code",
   "execution_count": 6,
   "metadata": {
    "collapsed": false
   },
   "outputs": [
    {
     "data": {
      "text/plain": [
       "[SymTensor {getSymmetricTensor = ex.⊗V2 0.5 0.0 ^+^ ey.⊗V2 0.0 0.5},SymTensor {getSymmetricTensor = ex.⊗V2 0.0 0.5 ^+^ ey.⊗V2 0.5 0.0}]"
      ]
     },
     "metadata": {},
     "output_type": "display_data"
    }
   ],
   "source": [
    "(id^*2\\$)<$>[diagT, offdiagT]"
   ]
  },
  {
   "cell_type": "code",
   "execution_count": null,
   "metadata": {
    "collapsed": true
   },
   "outputs": [],
   "source": []
  }
 ],
 "metadata": {
  "kernelspec": {
   "display_name": "Haskell",
   "language": "haskell",
   "name": "haskell"
  },
  "language_info": {
   "codemirror_mode": "ihaskell",
   "file_extension": ".hs",
   "name": "haskell",
   "version": "7.10.2"
  }
 },
 "nbformat": 4,
 "nbformat_minor": 0
}
