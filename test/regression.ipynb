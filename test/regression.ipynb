{
 "cells": [
  {
   "cell_type": "code",
   "execution_count": 1,
   "metadata": {
    "collapsed": true
   },
   "outputs": [],
   "source": [
    "{-# LANGUAGE TypeOperators, ParallelListComp #-}\n",
    ":opt no-lint"
   ]
  },
  {
   "cell_type": "code",
   "execution_count": 2,
   "metadata": {
    "collapsed": true
   },
   "outputs": [],
   "source": [
    "import Math.LinearMap.Category\n",
    "import Prelude ()\n",
    "import Control.Category.Constrained.Prelude\n",
    "type ℝ = Double"
   ]
  },
  {
   "cell_type": "code",
   "execution_count": 3,
   "metadata": {
    "collapsed": false
   },
   "outputs": [
    {
     "data": {
      "text/plain": []
     },
     "metadata": {},
     "output_type": "display_data"
    }
   ],
   "source": [
    "import System.Random\n",
    "import Control.Monad (replicateM)\n",
    "randomPoints <- replicateM 100 $ randomRIO (0,10) :: IO [ℝ]\n",
    "randomDeviations <- cycle <$> replicateM 165 `id` randomRIO (-0.1, 0.1) :: IO [ℝ]"
   ]
  },
  {
   "cell_type": "code",
   "execution_count": 4,
   "metadata": {
    "collapsed": false
   },
   "outputs": [
    {
     "data": {
      "text/plain": [
       "(1.0,1.0)\n",
       "(-2.0,1.9999999999999996)\n",
       "(14.300894549761438,2.895267024166003)"
      ]
     },
     "metadata": {},
     "output_type": "display_data"
    }
   ],
   "source": [
    "mapM_ print (\n",
    " linearRegressionW euclideanNorm\n",
    "    (\\x -> lfun $ \\(a,b) -> a*x + b)\n",
    " <$> [ [(0,1), (1,2), (2,3)]\n",
    "     , [(-2,6), (0,2), (1,0)]\n",
    "     , [(x, 14.3*x + 2.9 + δy) | x<-randomPoints\n",
    "                               | δy<-randomDeviations]\n",
    "     :: [(ℝ,ℝ)] ])"
   ]
  },
  {
   "cell_type": "code",
   "execution_count": 5,
   "metadata": {
    "collapsed": false
   },
   "outputs": [
    {
     "data": {
      "text/plain": [
       "((ex.<V2 (-5.791184475261406e11) 1.4110566378963125e12 ^+^ ey.<V2 (-1.44725154086525e12) 0.21776139905938763,V2 6.056172103839e12 0.0),-1.142963735399825e13)"
      ]
     },
     "metadata": {},
     "output_type": "display_data"
    }
   ],
   "source": [
    "import Linear.V2 (V2(..))\n",
    "\n",
    "mapM_ print (\n",
    " linearRegressionW euclideanNorm\n",
    "    (\\x -> lfun $ \\((a,b),c) -> x<.>^(a$x) + b<.>^x + c)\n",
    " <$> [ [ (V2 x y, 3*x + 2*y + x*y + δy)\n",
    "       | x<-randomPoints\n",
    "       , y<-randomPoints\n",
    "       | δy<-randomDeviations ]\n",
    "     ] :: [((V2 ℝ+>V2 ℝ, V2 ℝ), ℝ)] )"
   ]
  },
  {
   "cell_type": "code",
   "execution_count": null,
   "metadata": {
    "collapsed": true
   },
   "outputs": [],
   "source": []
  }
 ],
 "metadata": {
  "kernelspec": {
   "display_name": "Haskell",
   "language": "haskell",
   "name": "haskell"
  },
  "language_info": {
   "codemirror_mode": "ihaskell",
   "file_extension": ".hs",
   "name": "haskell",
   "version": "7.10.2"
  }
 },
 "nbformat": 4,
 "nbformat_minor": 0
}
