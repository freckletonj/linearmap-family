{
 "cells": [
  {
   "cell_type": "code",
   "execution_count": 1,
   "metadata": {
    "collapsed": false
   },
   "outputs": [],
   "source": [
    "{-# LANGUAGE TypeOperators, ParallelListComp, ScopedTypeVariables, Rank2Types, UnicodeSyntax #-}\n",
    ":opt no-lint"
   ]
  },
  {
   "cell_type": "code",
   "execution_count": 2,
   "metadata": {
    "collapsed": true
   },
   "outputs": [],
   "source": [
    "import Data.VectorSpace\n",
    "import Math.LinearMap.Category\n",
    "import Prelude ()\n",
    "import Control.Category.Constrained.Prelude\n",
    "import Control.Arrow.Constrained\n",
    "import Data.Semigroup ((<>))\n",
    "type ℝ = Double"
   ]
  },
  {
   "cell_type": "code",
   "execution_count": 3,
   "metadata": {
    "collapsed": false
   },
   "outputs": [],
   "source": [
    "import System.Random\n",
    "import Control.Monad (replicateM)\n",
    "randomPoints <- replicateM 100 $ randomRIO (0,10) :: IO [ℝ]\n",
    "randomDeviations <- cycle <$> replicateM 165 `id` randomRIO (-0.1, 0.1) :: IO [ℝ]"
   ]
  },
  {
   "cell_type": "code",
   "execution_count": 4,
   "metadata": {
    "collapsed": false
   },
   "outputs": [
    {
     "data": {
      "text/plain": [
       "(1.0,1.0)\n",
       "(-2.0,1.9999999999999996)\n",
       "(14.30043273454546,2.902335291125837)"
      ]
     },
     "metadata": {},
     "output_type": "display_data"
    }
   ],
   "source": [
    "mapM_ print (\n",
    " linearRegressionW euclideanNorm\n",
    "    (\\x -> lfun $ \\(a,b) -> a*x + b)\n",
    " <$> [ [(0,1), (1,2), (2,3)]\n",
    "     , [(-2,6), (0,2), (1,0)]\n",
    "     , [(x, 14.3*x + 2.9 + δy) | x<-randomPoints\n",
    "                               | δy<-randomDeviations]\n",
    "     :: [(ℝ,ℝ)] ])"
   ]
  },
  {
   "cell_type": "code",
   "execution_count": 5,
   "metadata": {
    "collapsed": false
   },
   "outputs": [],
   "source": [
    "import Data.List (sort)\n",
    "newtype Take = Take (∀ a . Int -> [a] -> [a])\n",
    "takeSome' <- do\n",
    "   randomIndices <- replicateM 10000 $ randomRIO (0, 10000)\n",
    "   return $ Take (\\n xs -> let l = length xs\n",
    "                               go (i₀:i₁:is) xs'\n",
    "                                | (e:es, r) <- splitAt (i₁-i₀) xs'  = e : go (i₁:is) r\n",
    "                               go (i₀:is) (x₀:xs')  = x₀ : go is xs'\n",
    "                               go _ _ = []\n",
    "                           in go (sort . take n $ (`mod`l)<$>randomIndices) xs)\n",
    "takeSome :: Int -> [a] -> [a]\n",
    "Take takeSome = takeSome'"
   ]
  },
  {
   "cell_type": "code",
   "execution_count": 6,
   "metadata": {
    "collapsed": false
   },
   "outputs": [
    {
     "data": {
      "text/plain": [
       "((SymTensor {getSymmetricTensor = ex.⊗V2 1.4764217659831047e-2 0.20196931544951582 ^+^ ey.⊗V2 0.20196931544951582 0.524045255035162},V2 5.664306163787842 (-0.36726121604442596)),3.7917109355330467)\n",
       "((SymTensor {getSymmetricTensor = ex.⊗V2 (-2.018501994387023e-2) 0.4863668100652247 ^+^ ey.⊗V2 0.4863668100652247 5.366703206368584e-2},V2 3.4032321264439815 1.5383411331108618),4.125791521379142)\n",
       "((SymTensor {getSymmetricTensor = ex.⊗V2 8.487245695754098e-4 0.503252227259141 ^+^ ey.⊗V2 0.503252227259141 (-5.148376967220258e-3)},V2 2.9559152502942823 2.0267742239693263),4.071646522187848)\n",
       "((SymTensor {getSymmetricTensor = ex.⊗V2 (-3.928365862648775e-5) 0.4999193604125227 ^+^ ey.⊗V2 0.4999193604125227 (-2.2165752794478522e-4)},V2 3.0008262090145195 2.0049998995953615),3.9833497589634135)"
      ]
     },
     "metadata": {},
     "output_type": "display_data"
    }
   ],
   "source": [
    "import Linear.V2 (V2(..), _x, _y)\n",
    "\n",
    "mapM_ print (\n",
    " linearRegressionW euclideanNorm\n",
    "    (\\v -> lfun $ \\((a,b),c) -> a<.>^squareV v + b<.>^v + c)\n",
    " <$> [ takeSome n [ (V2 x y, 3*x + 2*y + x*y + 4 + δy)\n",
    "       | x<-randomPoints\n",
    "       , y<-randomPoints\n",
    "       | δy<-randomDeviations ]\n",
    "     | n <- [5, 6, 10, 500]] )"
   ]
  },
  {
   "cell_type": "code",
   "execution_count": 7,
   "metadata": {
    "collapsed": false
   },
   "outputs": [],
   "source": [
    "abc :: ((SymmetricTensor ℝ (V2 ℝ) +> ℝ, V2 ℝ +> ℝ), ℝ)\n",
    "abc =\n",
    " linearRegressionW euclideanNorm\n",
    "    (\\v -> lfun $ \\((a,b),c) -> (a $ squareV v) + (b $ v) + c)\n",
    "  $ [ (V2 x y, 3*x + 2*y + x*y + 4 + δy)\n",
    "       | x<-randomPoints\n",
    "       , y<-randomPoints\n",
    "       | δy<-randomDeviations ]\n",
    "((a,b),c) = abc"
   ]
  },
  {
   "cell_type": "code",
   "execution_count": 8,
   "metadata": {
    "collapsed": false
   },
   "outputs": [
    {
     "data": {
      "text/plain": [
       "3.000578466315119"
      ]
     },
     "metadata": {},
     "output_type": "display_data"
    },
    {
     "data": {
      "text/plain": [
       "2.000676524590631"
      ]
     },
     "metadata": {},
     "output_type": "display_data"
    }
   ],
   "source": [
    "import Control.Lens\n",
    "import Math.LinearMap.Category.Derivatives\n",
    "\n",
    "b ^. (1*∂id/∂_x)\n",
    "b ^. (1*∂id/∂_y)"
   ]
  },
  {
   "cell_type": "code",
   "execution_count": 9,
   "metadata": {
    "collapsed": false
   },
   "outputs": [
    {
     "data": {
      "text/plain": [
       "-4.955132155259889e-5"
      ]
     },
     "metadata": {},
     "output_type": "display_data"
    },
    {
     "data": {
      "text/plain": [
       "0.9999132161783449"
      ]
     },
     "metadata": {},
     "output_type": "display_data"
    }
   ],
   "source": [
    "ðxx, ðxy :: Lens' (V2 ℝ⊗〃+>ℝ) ℝ\n",
    "ðxx = (1*∂id/∂_x.∂_x)\n",
    "ðxy = (1*∂id/∂_x.∂_y)\n",
    "a ^. ðxx\n",
    "a ^. ðxy"
   ]
  },
  {
   "cell_type": "code",
   "execution_count": 10,
   "metadata": {
    "collapsed": false
   },
   "outputs": [
    {
     "data": {
      "text/plain": [
       "4.0"
      ]
     },
     "metadata": {},
     "output_type": "display_data"
    },
    {
     "data": {
      "text/plain": [
       "0.9999132161783449"
      ]
     },
     "metadata": {},
     "output_type": "display_data"
    }
   ],
   "source": [
    "(a & ðxx .~ 4) ^. ðxx\n",
    "(a & ðxx .~ 4) ^. ðxy"
   ]
  },
  {
   "cell_type": "code",
   "execution_count": 11,
   "metadata": {
    "collapsed": false
   },
   "outputs": [
    {
     "data": {
      "text/plain": [
       "((0.0,0.0),[(0.0,-1.0),(0.0,1.0)])\n",
       "((0.0,0.0),[(2.1230172241752563e15,-2.1230172241752573e15),(-2.1230172241752563e15,2.1230172241752573e15)])\n",
       "((0.0,0.5),[(-1.3433698597964394e-16,-1.4999999999999998),(1.8657914719394995e-16,2.5)])\n",
       "((0.0,0.0),[(-1.0,0.0),(3.0,0.0)])\n",
       "((1.0,1.0),[(0.9999999999999999,-1.0),(-0.9999999999999999,1.0),(-0.9999999999999999,-1.5700924586837752e-16),(0.9999999999999999,1.5700924586837752e-16)])"
      ]
     },
     "metadata": {},
     "output_type": "display_data"
    }
   ],
   "source": [
    "let n = euclideanNorm :: Norm ℝ\n",
    " in mapM_ (\\(m,dvs) -> print (m, convexPolytopeRepresentatives dvs :: [(ℝ,ℝ)]))\n",
    "     $ linearRegressionWVar (\\x -> lfun $ \\(a,b) -> a*x + b)\n",
    "     <$> [ [(-1,(0,n)), (0,(-1,n)), (0,(1,n)), (1,(0,n))]\n",
    "         , [( 0,(0,n)), (1,(-1,n)), (1,(1,n)), (2,(0,n))]\n",
    "         , [( 0,(0,n)), (1,(-1,n)), (1,(3,n)), (2,(0,n))]\n",
    "         , [( 0,(0,n)), (1,(-1,n)), (1,(3,scaleNorm (sqrt 3/3) n)), (2,(0,n))]\n",
    "         , [( 0,(0,n)), (0,(2,n)), (1,(1,n)), (1,(3,n))] ]"
   ]
  },
  {
   "cell_type": "markdown",
   "metadata": {
    "collapsed": true
   },
   "source": [
    "From [dynamic-plot](http://hackage.haskell.org/package/dynamic-plot):"
   ]
  },
  {
   "cell_type": "code",
   "execution_count": 12,
   "metadata": {
    "collapsed": true
   },
   "outputs": [],
   "source": [
    "import Graphics.Dynamic.Plot.R2\n",
    "import Data.Manifold.Shade ((|±|))"
   ]
  },
  {
   "cell_type": "code",
   "execution_count": 13,
   "metadata": {
    "collapsed": false,
    "scrolled": true
   },
   "outputs": [
    {
     "data": {
      "text/plain": [
       "((-5.971905352110368e-3,(1.0269988083972055,0.962078196908117)),[(3.0496595469200844e-3,(3.89100426740403e-2,7.278303181260681e-2)),(-5.638438573379918e-2,(2.9492609787295967e-2,5.682197433011512e-2)),(-1.9291689933220026e-2,(2.9250685220981884e-2,1.3383203630771751e-3)),(3.578427910961642e-2,(-5.416829778925377e-2,-2.8396649690092335e-3)),(3.617086182766489e-2,(-3.185491743365629e-2,-2.9542418215195352e-2)),(2.8204709053468696e-2,(1.4918467088033046e-2,-4.000439411307118e-2)),(6.780384916461815e-3,(-3.258004068130568e-2,-1.1780545428348173e-2)),(-3.775920519214847e-2,(-1.1724983702202285e-2,5.071193265645115e-2))])"
      ]
     },
     "metadata": {},
     "output_type": "display_data"
    }
   ],
   "source": [
    "second convexPolytopeRepresentatives\n",
    " $ linearRegressionWVar (\\x -> lfun $ \\(c₀,(b₁,c₁)) -> c₀ + b₁*sin x + c₁*cos x)\n",
    "                              (takeSome 30 [ (x, (sqrt 2 * sin (x + pi/4) + δy, spanNorm [1/0.05]))\n",
    "                                           | x<-randomPoints\n",
    "                                           | δy<-randomDeviations ])\n",
    "    :: ((ℝ,(ℝ,ℝ)), [(ℝ,(ℝ,ℝ))])"
   ]
  },
  {
   "cell_type": "code",
   "execution_count": 14,
   "metadata": {
    "collapsed": false
   },
   "outputs": [
    {
     "data": {
      "text/plain": [
       "GraphWindowSpecR2{lBound=-1.4955766206930592, rBound=11.500332964501087, bBound=-2.00021207819921, tBound=1.9652338755735261, xResolution=640, yResolution=480}"
      ]
     },
     "metadata": {},
     "output_type": "display_data"
    }
   ],
   "source": [
    "plotWindow [linregressionPlot (\\x -> lfun $ \\(c₀,(b₁,c₁)) -> c₀ + b₁*sin x + c₁*cos x)\n",
    "                              (takeSome 30 [ (x, sqrt 2 * sin (x + pi/4) + δy |±|[0.05])\n",
    "                                           | x<-randomPoints\n",
    "                                           | δy<-randomDeviations ])\n",
    "                              (const (<>)) ]"
   ]
  },
  {
   "cell_type": "markdown",
   "metadata": {},
   "source": [
    "![Plot of regression of a set of deviated sine-sampled function points, with uncertainties.](https://raw.githubusercontent.com/leftaroundabout/linearmap-family/master/test/images/regression-envi.png)"
   ]
  },
  {
   "cell_type": "code",
   "execution_count": null,
   "metadata": {
    "collapsed": true
   },
   "outputs": [],
   "source": []
  }
 ],
 "metadata": {
  "kernelspec": {
   "display_name": "Haskell",
   "language": "haskell",
   "name": "haskell"
  },
  "language_info": {
   "codemirror_mode": "ihaskell",
   "file_extension": ".hs",
   "name": "haskell",
   "version": "7.10.2"
  }
 },
 "nbformat": 4,
 "nbformat_minor": 0
}
