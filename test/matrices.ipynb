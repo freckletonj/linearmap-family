{
 "cells": [
  {
   "cell_type": "code",
   "execution_count": 1,
   "metadata": {
    "collapsed": true
   },
   "outputs": [],
   "source": [
    "{-# LANGUAGE TypeOperators #-}\n",
    "import Math.LinearMap.Category\n",
    "import Data.VectorSpace\n",
    "import Data.VectorSpace.Free\n",
    "import Linear (V2(..),V3(..),V4(..),ex,ey,ez)\n",
    "import Control.Category.Constrained.Prelude\n",
    "import Control.Arrow.Constrained\n",
    "import Prelude ()\n",
    ":opt no-lint"
   ]
  },
  {
   "cell_type": "code",
   "execution_count": 2,
   "metadata": {
    "collapsed": false
   },
   "outputs": [],
   "source": [
    "type ℝ = Double\n",
    "type ℝ² = V2 ℝ\n",
    "type ℝ³ = V3 ℝ\n",
    "type ℝ⁴ = V4 ℝ"
   ]
  },
  {
   "cell_type": "code",
   "execution_count": 3,
   "metadata": {
    "collapsed": false
   },
   "outputs": [
    {
     "data": {
      "text/plain": [
       "ex.<V3 1.0 1.0 1.0 ^+^ ey.<V3 0.0 2.0 1.0 ^+^ ez.<V3 0.0 0.0 3.0"
      ]
     },
     "metadata": {},
     "output_type": "display_data"
    }
   ],
   "source": [
    "m :: ℝ³ +> ℝ³\n",
    "m =  ex.<V3 1 1 1\n",
    " ^+^ ey.<V3 0 2 1\n",
    " ^+^ ez.<V3 0 0 3\n",
    "m"
   ]
  },
  {
   "cell_type": "code",
   "execution_count": 4,
   "metadata": {
    "collapsed": false
   },
   "outputs": [
    {
     "data": {
      "text/plain": [
       "[V3 1.0 0.0 0.0,V3 1.0 2.0 0.0,V3 1.0 1.0 3.0]"
      ]
     },
     "metadata": {},
     "output_type": "display_data"
    }
   ],
   "source": [
    "(m$) <$> [V3 1 0 0, V3 0 1 0, V3 0 0 1]"
   ]
  },
  {
   "cell_type": "code",
   "execution_count": 5,
   "metadata": {
    "collapsed": false
   },
   "outputs": [
    {
     "data": {
      "text/plain": [
       "V3 2.0 1.0 3.0"
      ]
     },
     "metadata": {},
     "output_type": "display_data"
    }
   ],
   "source": [
    "m $ V3 1 0 1"
   ]
  },
  {
   "cell_type": "code",
   "execution_count": 6,
   "metadata": {
    "collapsed": false
   },
   "outputs": [
    {
     "data": {
      "text/plain": [
       "(V3 1.0 2.0 0.0,V3 0.5 1.0 0.0)"
      ]
     },
     "metadata": {},
     "output_type": "display_data"
    }
   ],
   "source": [
    "m &&& m^/2 $ V3 0 1 0"
   ]
  },
  {
   "cell_type": "code",
   "execution_count": 7,
   "metadata": {
    "collapsed": false
   },
   "outputs": [
    {
     "data": {
      "text/plain": [
       "V3 0.8333333333333334 (-0.16666666666666666) 0.3333333333333333"
      ]
     },
     "metadata": {},
     "output_type": "display_data"
    }
   ],
   "source": [
    "m \\$ V3 1 0 1"
   ]
  },
  {
   "cell_type": "code",
   "execution_count": 8,
   "metadata": {
    "collapsed": false
   },
   "outputs": [
    {
     "data": {
      "text/plain": [
       "V3 1.0 0.0 1.0"
      ]
     },
     "metadata": {},
     "output_type": "display_data"
    }
   ],
   "source": [
    "m $ m \\$ V3 1 0 1"
   ]
  },
  {
   "cell_type": "code",
   "execution_count": 9,
   "metadata": {
    "collapsed": false
   },
   "outputs": [
    {
     "data": {
      "text/plain": [
       "(V3 1.0 2.0 3.0,V3 4.0 5.0 6.0)"
      ]
     },
     "metadata": {},
     "output_type": "display_data"
    }
   ],
   "source": [
    "mm = m *** m\n",
    "mm $ mm \\$ (V3 1 2 3,V3 4 5 6)"
   ]
  },
  {
   "cell_type": "code",
   "execution_count": 10,
   "metadata": {
    "collapsed": false
   },
   "outputs": [
    {
     "data": {
      "text/plain": [
       "ex.<V3 3.0 0.0 0.0 ^+^ ey.<V3 0.0 3.0 0.0 ^+^ ez.<V3 0.0 0.0 3.0"
      ]
     },
     "metadata": {},
     "output_type": "display_data"
    }
   ],
   "source": [
    "sampleLinearFunction $ (scale $ 3) :: ℝ³+>ℝ³"
   ]
  },
  {
   "cell_type": "markdown",
   "metadata": {},
   "source": [
    "A Hermitian operator whose eigenvalues we which to compute:"
   ]
  },
  {
   "cell_type": "code",
   "execution_count": 11,
   "metadata": {
    "collapsed": false
   },
   "outputs": [
    {
     "data": {
      "text/plain": [
       "(3.8460273577607986,V3 0.22928460979787718 (-0.27970938645743565) (-0.9323042565801363))\n",
       "(1.2569135004904985,V3 0.9258925256982659 0.3581347111793845 0.1202603821070982)\n",
       "(-3.1029408582512956,V3 0.3002525579673246 (-0.890787397629796) 0.34109560779642784)"
      ]
     },
     "metadata": {},
     "output_type": "display_data"
    }
   ],
   "source": [
    "h :: ℝ³ +> ℝ³\n",
    "h =       ex.<V3  1   1 (-1)\n",
    "      ^+^ ey.<V3  1 (-2)  2\n",
    "      ^+^ ez.<V3(-1)  2   3\n",
    "\n",
    "mapM_ print $ eigen h"
   ]
  },
  {
   "cell_type": "markdown",
   "metadata": {},
   "source": [
    "Details about the eigensystem computation steps:"
   ]
  },
  {
   "cell_type": "code",
   "execution_count": 12,
   "metadata": {
    "collapsed": false
   },
   "outputs": [
    {
     "data": {
      "text/plain": [
       "λ = 3.00000,\t±0.2\t: V3 0.2672612419124244 0.5345224838248488 0.8017837257372732\n",
       "\n",
       "λ = 3.64706,\t±6.6e-2\t: V3 0.0 0.24253562503633297 0.9701425001453319\n",
       "λ = 1.96078e-2,\t±10624.9\t: V3 0.6362090102803517 0.7484811885651197 (-0.18712029714127998)\n",
       "\n",
       "λ = 3.77178,\t±3.2e-2\t: V3 (-0.1932469879202493) 0.3864939758404986 0.9018192769611634\n",
       "λ = -1.75202,\t±1.3\t: V3 0.7532587103138626 (-0.530520919629656) 0.38877868919425174\n",
       "\n",
       "λ = 3.80390,\t±2.0e-2\t: V3 (-0.1849065960950487) 0.21852597720323938 0.9581523615834342\n",
       "λ = -2.77486,\t±0.2\t: V3 6.367375813173522e-2 (-0.9702520717258096) 0.23357347845411602\n",
       "λ = 0.97096,\t±1.3\t: V3 (-0.9806911864832496) (-0.10419843856384559) (-0.1654916377190483)\n",
       "\n",
       "λ = 3.81924,\t±1.3e-2\t: V3 (-0.24068696606683043) 0.33696175249356264 0.910234344398195\n",
       "λ = -3.02611,\t±4.3e-2\t: V3 0.3842806943452703 (-0.8280881839570452) 0.40816455939270363\n",
       "λ = 1.20688,\t±0.2\t: V3 (-0.891290150466761) (-0.4480253753384845) (-6.982213641638726e-2)\n",
       "\n",
       "λ = 3.82864,\t±8.2e-3\t: V3 (-0.211783297759486) 0.23569431524846018 0.9484703603959779\n",
       "λ = -3.07723,\t±1.6e-2\t: V3 0.2702692746977899 (-0.918512739415293) 0.28859810582563555\n",
       "λ = 1.24859,\t±2.3e-2\t: V3 (-0.9392030419160957) (-0.3174626549554666) (-0.1308247253548766)\n",
       "\n",
       "λ = 3.83471,\t±5.3e-3\t: V3 (-0.24049890797845316) 0.3157288619520088 0.9178646746616086\n",
       "λ = -3.09025,\t±8.8e-3\t: V3 0.30720109873608925 (-0.8722517573034492) 0.3805316764953798\n",
       "λ = 1.25554,\t±3.8e-3\t: V3 (-0.9207539085969231) (-0.37348648919543825) (-0.11278334181941414)\n",
       "\n",
       "λ = 3.83866,\t±3.5e-3\t: V3 (-0.21915459952955602) 0.2506604804461073 0.9429425141797173\n",
       "λ = -3.09534,\t±5.4e-3\t: V3 0.30087104049234475 (-0.9019776887711984) 0.30969802381032585\n",
       "λ = 1.25669,\t±6.2e-4\t: V3 (-0.9281421650254306) (-0.35157584174896594) (-0.12225607960511514)\n",
       "\n",
       "λ = 3.84123,\t±2.3e-3\t: V3 (-0.23702521157844098) 0.30307255121452287 0.9230200852508659\n",
       "λ = -3.09810,\t±3.5e-3\t: V3 0.296819400534025 (-0.8820730586817872) 0.36584882480934433\n",
       "λ = 1.25688,\t±1.0e-4\t: V3 (-0.9250498865157583) (-0.3606856634911854) (-0.11911574039188094)\n",
       "\n",
       "λ = 3.84290,\t±1.5e-3\t: V3 (-0.2228471089266803) 0.26078617936575116 0.9393240839533683\n",
       "λ = -3.09981,\t±2.3e-3\t: V3 0.30394747496282126 (-0.8969355902131285) 0.32112688998704597\n",
       "λ = 1.25691,\t±1.7e-5\t: V3 (-0.9262586563734482) (-0.3570673825216207) (-0.12061420244901987)\n",
       "\n",
       "λ = 3.84399,\t±9.6e-4\t: V3 (-0.23438620846062652) 0.29493231038089174 0.9263250172465609\n",
       "λ = -3.10091,\t±1.5e-3\t: V3 0.2967234798137083 (-0.8856933161580737) 0.35707495885340196\n",
       "λ = 1.25691,\t±2.8e-6\t: V3 (-0.9257528189590867) (-0.3585558282977759) (-0.12008095678749493)\n",
       "\n",
       "λ = 3.84470,\t±6.2e-4\t: V3 (-0.22512142438495616) 0.26740625098226845 0.936917414299946\n",
       "λ = -3.10162,\t±9.6e-4\t: V3 0.3032045774341802 (-0.8946275051873059) 0.32818990110193386\n",
       "λ = 1.25691,\t±4.5e-7\t: V3 (-0.9259521199856117) (-0.3579602266983651) (-0.120321018929389)"
      ]
     },
     "metadata": {},
     "output_type": "display_data"
    }
   ],
   "source": [
    "esyss = constructEigenSystem euclideanNorm 1e-8 (arr h) [V3 1 2 3]\n",
    "\n",
    "import Numeric (showGFloat)\n",
    "\n",
    "forM_ (take 12 esyss) $ \\vs -> do\n",
    "   forM_ vs $ \\ev -> putStrLn $ \"λ = \" ++ showGFloat (Just 5) (ev_Eigenvalue ev)\n",
    "                                \",\\t±\" ++ showGFloat (Just 1) (ev_Badness ev)\n",
    "                                \"\\t: \" ++ show (ev_Eigenvector ev)\n",
    "   putStrLn \"\""
   ]
  },
  {
   "cell_type": "code",
   "execution_count": 13,
   "metadata": {
    "collapsed": false
   },
   "outputs": [
    {
     "data": {
      "text/plain": [
       "V3 (-0.9460447951977673) 2.7822600298366593 (-0.9968852355696496)"
      ]
     },
     "metadata": {},
     "output_type": "display_data"
    },
    {
     "data": {
      "text/plain": [
       "V3 (-0.9201114914238139) 2.7464513377436455 (-1.107255728960085)"
      ]
     },
     "metadata": {},
     "output_type": "display_data"
    }
   ],
   "source": [
    "v = ev_Eigenvector $ esyss!!10!!1\n",
    "h $ v\n",
    "v ^* ((h$v)<.>v)"
   ]
  },
  {
   "cell_type": "code",
   "execution_count": 14,
   "metadata": {
    "collapsed": false
   },
   "outputs": [
    {
     "data": {
      "text/plain": [
       "[3.6130717232903162,-2.9012007304789704,1.2881290071886538]"
      ]
     },
     "metadata": {},
     "output_type": "display_data"
    },
    {
     "data": {
      "text/plain": [
       "[3.06628901267476,-6.657612050870484e-2,2.871078339452375e-4]"
      ]
     },
     "metadata": {},
     "output_type": "display_data"
    },
    {
     "data": {
      "text/plain": [
       "[3.000000000000001,1.232595164407831e-32,1.232595164407831e-32]"
      ]
     },
     "metadata": {},
     "output_type": "display_data"
    },
    {
     "data": {
      "text/plain": [
       "[1.094948537734607,0.9872809799077533,0.9177704823576396]"
      ]
     },
     "metadata": {},
     "output_type": "display_data"
    },
    {
     "data": {
      "text/plain": [
       "[1.0,1.0,1.0]"
      ]
     },
     "metadata": {},
     "output_type": "display_data"
    }
   ],
   "source": [
    "ev_Eigenvalue <$> roughEigenSystem euclideanNorm\n",
    "     (    ex.<V3  1   1 (-1)\n",
    "      ^+^ ey.<V3  1 (-2)  2\n",
    "      ^+^ ez.<V3(-1)  2   3 :: ℝ³+>ℝ³ )\n",
    "ev_Eigenvalue <$> roughEigenSystem euclideanNorm\n",
    "     (    ex.<V3  1   1.1   1\n",
    "      ^+^ ey.<V3  1   1   1.1\n",
    "      ^+^ ez.<V3  1   1   1 :: ℝ³+>ℝ³ )\n",
    "ev_Eigenvalue <$> roughEigenSystem euclideanNorm\n",
    "     (    ex.<V3  1   1   1\n",
    "      ^+^ ey.<V3  1   1   1\n",
    "      ^+^ ez.<V3  1   1   1 :: ℝ³+>ℝ³ )\n",
    "ev_Eigenvalue <$> roughEigenSystem euclideanNorm\n",
    "     (    ex.<V3  1   0   0.1\n",
    "      ^+^ ey.<V3  0.2   1   0\n",
    "      ^+^ ez.<V3  0   0.1   1 :: ℝ³+>ℝ³ )\n",
    "ev_Eigenvalue <$> roughEigenSystem euclideanNorm\n",
    "     (    ex.<V3  1   0   0\n",
    "      ^+^ ey.<V3  0   1   0\n",
    "      ^+^ ez.<V3  0   0   1 :: ℝ³+>ℝ³ )"
   ]
  },
  {
   "cell_type": "code",
   "execution_count": 15,
   "metadata": {
    "collapsed": false
   },
   "outputs": [
    {
     "data": {
      "text/plain": [
       "λ = 3.61307,\t±7.0e-2\t: V3 0.41076720765548536 (-8.612860805679518e-2) (-0.9076630233677663)\n",
       "λ = -2.90120,\t±0.1\t: V3 0.4935071413760619 (-0.8160783323990003) 0.30077708822264826\n",
       "λ = 1.28813,\t±0.6\t: V3 0.7666296384341941 0.5714875486509449 0.29271313467487414\n",
       "\n",
       "λ = 3.83909,\t±3.3e-3\t: V3 0.2359990891321422 (-0.3087237953165698) (-0.9214087302246122)\n",
       "λ = 1.25679,\t±4.3e-4\t: V3 0.9282199015441487 0.35224177075687974 0.11972280196950333\n",
       "λ = -3.09587,\t±5.1e-3\t: V3 0.2875973649152064 (-0.8835243930641593) 0.3696923079459987\n",
       "\n",
       "λ = 3.84603,\t±1.5e-9\t: V3 0.22928460979787718 (-0.27970938645743565) (-0.9323042565801363)\n",
       "λ = 1.25691,\t±9.8e-13\t: V3 0.9258925256982659 0.3581347111793845 0.1202603821070982\n",
       "λ = -3.10294,\t±2.4e-9\t: V3 0.3002525579673246 (-0.890787397629796) 0.34109560779642784"
      ]
     },
     "metadata": {},
     "output_type": "display_data"
    }
   ],
   "source": [
    "rough = roughEigenSystem euclideanNorm h\n",
    "forM_ (take 3 $ iterate (finishEigenSystem euclideanNorm) rough) $ \\vs -> do\n",
    "   forM_ vs $ \\ev -> putStrLn $ \"λ = \" ++ showGFloat (Just 5) (ev_Eigenvalue ev)\n",
    "                                \",\\t±\" ++ showGFloat (Just 1) (ev_Badness ev)\n",
    "                                \"\\t: \" ++ show (ev_Eigenvector ev)\n",
    "   putStrLn \"\""
   ]
  },
  {
   "cell_type": "code",
   "execution_count": 16,
   "metadata": {
    "collapsed": false
   },
   "outputs": [
    {
     "data": {
      "text/plain": [
       "[0.0,0.5,1.0,1.0,1.0]"
      ]
     },
     "metadata": {},
     "output_type": "display_data"
    },
    {
     "data": {
      "text/plain": [
       "[0.0,0.7071067811865476,1.4142135623730951,1.4142135623730951,1.4142135623730951]"
      ]
     },
     "metadata": {},
     "output_type": "display_data"
    },
    {
     "data": {
      "text/plain": [
       "[0.0,0.5,1.0,1.4142135623730951,1.4142135623730951]"
      ]
     },
     "metadata": {},
     "output_type": "display_data"
    }
   ],
   "source": [
    "map (spanNorm [V2 1 0, V2 0 1] |$|)\n",
    "   [V2 0 0, V2 0 0.5, V2 0 1, V2 1 0, V2 (-1) 0 :: ℝ²]\n",
    "map (spanNorm [V2 1 1, V2 1 (-1)] |$|)\n",
    "   [V2 0 0, V2 0 0.5, V2 0 1, V2 1 0, V2 (-1) 0 :: ℝ²]\n",
    "map (spanNorm [V2 1 0, V2 0 1, V2 1 0] |$|)\n",
    "   [V2 0 0, V2 0 0.5, V2 0 1, V2 1 0, V2 (-1) 0 :: ℝ²]"
   ]
  },
  {
   "cell_type": "code",
   "execution_count": 17,
   "metadata": {
    "collapsed": false
   },
   "outputs": [
    {
     "data": {
      "text/plain": [
       "spanNorm [V2 1.0 0.0,V2 0.0 1.0]"
      ]
     },
     "metadata": {},
     "output_type": "display_data"
    },
    {
     "data": {
      "text/plain": [
       "spanNorm [V2 1.0 0.0,V2 0.0 2.0]"
      ]
     },
     "metadata": {},
     "output_type": "display_data"
    },
    {
     "data": {
      "text/plain": [
       "spanNorm [V2 1.4142135623730951 0.7071067811865475,V2 0.0 0.7071067811865476]"
      ]
     },
     "metadata": {},
     "output_type": "display_data"
    },
    {
     "data": {
      "text/plain": [
       "spanNorm [V2 1.4142135623730951 0.7071067811865475,V2 0.0 0.7071067811865476]"
      ]
     },
     "metadata": {},
     "output_type": "display_data"
    }
   ],
   "source": [
    "spanNorm [V2 1 0, V2 0 1] :: Norm ℝ²\n",
    "spanNorm [V2 1 0, V2 0 2] :: Norm ℝ²\n",
    "spanNorm [V2 1 0, V2 1 1] :: Norm ℝ²\n",
    "spanNorm [V2 1.4142135623730951 0.7071067811865475,V2 0.0 0.7071067811865476] :: Norm ℝ²"
   ]
  },
  {
   "cell_type": "code",
   "execution_count": 18,
   "metadata": {
    "collapsed": false
   },
   "outputs": [
    {
     "data": {
      "text/plain": [
       "spanNorm [V2 1.0 0.0,V2 0.0 1.0]"
      ]
     },
     "metadata": {},
     "output_type": "display_data"
    },
    {
     "data": {
      "text/plain": [
       "spanNorm [V2 1.0 0.0,V2 0.0 2.0]"
      ]
     },
     "metadata": {},
     "output_type": "display_data"
    }
   ],
   "source": [
    "shSys = sharedNormSpanningSystem (spanNorm [V2 1 0, V2 0 1]) (spanNorm [V2 1 0, V2 0 2] :: Norm ℝ²)\n",
    "spanNorm $ fst<$>shSys           :: Norm ℝ²\n",
    "spanNorm [η*^dv | (dv,η)<-shSys] :: Norm ℝ²"
   ]
  },
  {
   "cell_type": "code",
   "execution_count": 19,
   "metadata": {
    "collapsed": false
   },
   "outputs": [
    {
     "data": {
      "text/plain": [
       "0.0"
      ]
     },
     "metadata": {},
     "output_type": "display_data"
    },
    {
     "data": {
      "text/plain": [
       "0.1"
      ]
     },
     "metadata": {},
     "output_type": "display_data"
    },
    {
     "data": {
      "text/plain": [
       "-0.5"
      ]
     },
     "metadata": {},
     "output_type": "display_data"
    },
    {
     "data": {
      "text/plain": [
       "0.5"
      ]
     },
     "metadata": {},
     "output_type": "display_data"
    }
   ],
   "source": [
    "(dependence (spanVariance [(1, 0  ), (0,1)::(ℝ,ℝ)]) :: ℝ+>ℝ) $ 1\n",
    "(dependence (spanVariance [(1, 0.1), (0,1)::(ℝ,ℝ)]) :: ℝ+>ℝ) $ 1\n",
    "(dependence (spanVariance [(2,-1  ), (0,1)::(ℝ,ℝ)]) :: ℝ+>ℝ) $ 1\n",
    "(dependence (spanVariance [(1, 0  ), (1,1)::(ℝ,ℝ)]) :: ℝ+>ℝ) $ 1"
   ]
  },
  {
   "cell_type": "code",
   "execution_count": 20,
   "metadata": {
    "collapsed": false
   },
   "outputs": [
    {
     "data": {
      "text/plain": [
       "5.596799999999998"
      ]
     },
     "metadata": {},
     "output_type": "display_data"
    },
    {
     "data": {
      "text/plain": [
       "0.6995999999999998"
      ]
     },
     "metadata": {},
     "output_type": "display_data"
    },
    {
     "data": {
      "text/plain": [
       "0.6995999999999998"
      ]
     },
     "metadata": {},
     "output_type": "display_data"
    }
   ],
   "source": [
    "roughDet m\n",
    "roughDet (m ^/ 2)\n",
    "roughDet m / 2^3"
   ]
  },
  {
   "cell_type": "code",
   "execution_count": 21,
   "metadata": {
    "collapsed": false
   },
   "outputs": [
    {
     "data": {
      "text/plain": [
       "ex.<V3 0.38461538461538464 0.46153846153846156 (-0.15384615384615385) ^+^ ey.<V3 0.46153846153846156 0.6538461538461539 0.1153846153846152 ^+^ ez.<V3 (-0.15384615384615385) 0.11538461538461531 0.961538461538461"
      ]
     },
     "metadata": {},
     "output_type": "display_data"
    },
    {
     "data": {
      "text/plain": [
       "ex.<V2 1.0 0.0 ^+^ ey.<V2 (-4.440892098500626e-16) 0.9999999999999994"
      ]
     },
     "metadata": {},
     "output_type": "display_data"
    }
   ],
   "source": [
    "inj :: ℝ² +> ℝ³\n",
    "inj =  ex.<V2 1 0\n",
    "   ^+^ ey.<V2 2 1\n",
    "   ^+^ ez.<V2 2 3\n",
    "inj' = pseudoInverse inj\n",
    "inj . inj'\n",
    "inj' . inj"
   ]
  },
  {
   "cell_type": "code",
   "execution_count": 22,
   "metadata": {
    "collapsed": false
   },
   "outputs": [
    {
     "data": {
      "text/plain": [
       "ex.<V2 0.9999999999999991 4.440892098500626e-16 ^+^ ey.<V2 (-1.1102230246251565e-15) 1.0000000000000004"
      ]
     },
     "metadata": {},
     "output_type": "display_data"
    },
    {
     "data": {
      "text/plain": [
       "ex.<V3 0.9285714285714284 (-0.2142857142857142) 0.1428571428571428 ^+^ ey.<V3 (-0.2142857142857144) 0.357142857142857 0.42857142857142827 ^+^ ez.<V3 0.14285714285714257 0.4285714285714286 0.7142857142857142"
      ]
     },
     "metadata": {},
     "output_type": "display_data"
    }
   ],
   "source": [
    "surj :: ℝ³ +> ℝ²\n",
    "surj =  ex.<V3 1 1 2\n",
    "    ^+^ ey.<V3 0 2 3\n",
    "surj' = pseudoInverse surj\n",
    "surj . surj'\n",
    "surj' . surj"
   ]
  },
  {
   "cell_type": "code",
   "execution_count": 23,
   "metadata": {
    "collapsed": false
   },
   "outputs": [
    {
     "data": {
      "text/plain": [
       "(V4Basis,[ex.<V2 1.0 0.0 ^+^ ey.<V2 0.0 0.0,ex.<V2 0.0 1.0 ^+^ ey.<V2 0.0 0.0,ex.<V2 0.0 0.0 ^+^ ey.<V2 1.0 0.0,ex.<V2 0.0 0.0 ^+^ ey.<V2 0.0 1.0])"
      ]
     },
     "metadata": {},
     "output_type": "display_data"
    },
    {
     "data": {
      "text/plain": [
       "(LinMapBasis V2Basis V2Basis,[V4 1.0 0.0 0.0 0.0,V4 0.0 0.0 1.0 0.0,V4 0.0 1.0 0.0 0.0,V4 0.0 0.0 0.0 1.0])"
      ]
     },
     "metadata": {},
     "output_type": "display_data"
    },
    {
     "data": {
      "text/plain": [
       "ex.<V2 1.0 2.0 ^+^ ey.<V2 3.0 4.0"
      ]
     },
     "metadata": {},
     "output_type": "display_data"
    }
   ],
   "source": [
    "quadratMat :: ℝ⁴ +> (ℝ² +> ℝ²)\n",
    "quadratMat = arr.LinearFunction $ \\(V4 a b c d)\n",
    "          -> arr.LinearFunction $ \\(V2 x y) -> V2 (a*x + b*y) (c*x + d*y)\n",
    "second ($[]) $ decomposeLinMap quadratMat\n",
    "flattenQuadrat :: (ℝ²+>ℝ²) +> ℝ⁴\n",
    "flattenQuadrat = adjoint $ quadratMat\n",
    "second ($[]) $ decomposeLinMap flattenQuadrat\n",
    "flattenQuadrat \\$ V4 1 2 3 4"
   ]
  },
  {
   "cell_type": "code",
   "execution_count": 24,
   "metadata": {
    "collapsed": false
   },
   "outputs": [
    {
     "data": {
      "text/plain": [
       "[(2.398827862960816,0.0),(3.3741436411530183,1.2857869007290879)]"
      ]
     },
     "metadata": {},
     "output_type": "display_data"
    },
    {
     "data": {
      "text/plain": [
       "[Node {rootLabel = (1,(0.29637149640086996,0.0)), subForest = []},Node {rootLabel = (0,(0.4168702621144828,0.0)), subForest = [Node {rootLabel = (1,(0.0,0.777733852657049)), subForest = []}]},Node {rootLabel = (1,(0.0,0.777733852657049)), subForest = []}]"
      ]
     },
     "metadata": {},
     "output_type": "display_data"
    },
    {
     "data": {
      "text/plain": [
       "spanNorm [(0.41687026211448275,-1.093944994541313),(0.0,0.777733852657049)]"
      ]
     },
     "metadata": {},
     "output_type": "display_data"
    }
   ],
   "source": [
    "spannableNorm :: Norm (ℝ,ℝ)\n",
    "spannableNorm = Norm (LinearFunction $ \\(x,y) ->\n",
    "                       x*^(0.17378081543539758,-0.4560331366132637)\n",
    "                   ^+^ y*^(-0.4560331366132637,1.8015855966507703) )\n",
    "normSpanningSystem' spannableNorm\n",
    "dualBasisCandidates [(0,(2.398827862960816,0.0)),(1,(3.3741436411530183,1.2857869007290879) :: (ℝ,ℝ))]\n",
    "spannableNorm"
   ]
  },
  {
   "cell_type": "code",
   "execution_count": 25,
   "metadata": {
    "collapsed": false
   },
   "outputs": [
    {
     "data": {
      "text/plain": [
       "[V2 2.398827862960816 0.0,V2 3.3741436411530183 1.2857869007290879]"
      ]
     },
     "metadata": {},
     "output_type": "display_data"
    },
    {
     "data": {
      "text/plain": [
       "[Node {rootLabel = (1,V2 1.0 0.0), subForest = [Node {rootLabel = (0,V2 0.0 1.0), subForest = []}]},Node {rootLabel = (0,V2 1.0 0.0), subForest = [Node {rootLabel = (1,V2 0.0 1.0), subForest = []}]}]"
      ]
     },
     "metadata": {},
     "output_type": "display_data"
    },
    {
     "data": {
      "text/plain": [
       "spanNorm [V2 0.41687026211448275 (-1.093944994541313),V2 0.0 0.777733852657049]"
      ]
     },
     "metadata": {},
     "output_type": "display_data"
    }
   ],
   "source": [
    "spannableNorm :: Norm ℝ²\n",
    "spannableNorm = Norm (LinearFunction $ \\(V2 x y) ->\n",
    "                       x*^(V2 0.17378081543539758 (-0.4560331366132637))\n",
    "                   ^+^ y*^(V2 (-0.4560331366132637) 1.8015855966507703) )\n",
    "normSpanningSystem' spannableNorm\n",
    "dualBasisCandidates [(0,(V2 2.398827862960816 0.0)),(1,(V2 3.3741436411530183 1.2857869007290879) :: ℝ²)]\n",
    "spannableNorm"
   ]
  },
  {
   "cell_type": "code",
   "execution_count": 26,
   "metadata": {
    "collapsed": false
   },
   "outputs": [
    {
     "data": {
      "text/plain": [
       "[(0.17378081543539758,-0.4560331366132637),(-0.4560331366132637,1.8015855966507703)]"
      ]
     },
     "metadata": {},
     "output_type": "display_data"
    },
    {
     "data": {
      "text/plain": [
       "[(17.13922042725051,4.338429694972901),(4.3384296949729,1.6532479540865135)]"
      ]
     },
     "metadata": {},
     "output_type": "display_data"
    }
   ],
   "source": [
    "Norm obliqueN = spanNorm [(0.4168702621144828,-1.0939449945413133),(0.0,0.777733852657049)] :: Norm (ℝ,ℝ)\n",
    "arr obliqueN <$> [(1,0),(0,1)]\n",
    "arr (pseudoInverse $ arr obliqueN) <$> [(1,0),(0,1)]"
   ]
  },
  {
   "cell_type": "code",
   "execution_count": 27,
   "metadata": {
    "collapsed": false
   },
   "outputs": [
    {
     "data": {
      "text/plain": [
       "[(V3 1.0 0.0 0.0,1.0),(V3 0.0 1.0 0.0,1.0),(V3 0.0 0.0 1.0,0.0)]"
      ]
     },
     "metadata": {},
     "output_type": "display_data"
    }
   ],
   "source": [
    "sharedNormSpanningSystem (spanNorm [V3 1 0 0, V3 0 1 0, V3 0 0 1]) (spanNorm [V3 1 0 0, V3 0 1 0] :: Norm ℝ³)"
   ]
  },
  {
   "cell_type": "code",
   "execution_count": 28,
   "metadata": {
    "collapsed": false
   },
   "outputs": [
    {
     "data": {
      "text/plain": [
       "[(V3 10.364701201561049 1.1645632003823363 (-5.08464841677548),0.6342954291874806),(V3 (-1.9523262054172674) 7.430772112796572 (-8.080462112885783),0.45607212985210344)]"
      ]
     },
     "metadata": {},
     "output_type": "display_data"
    },
    {
     "data": {
      "text/plain": [
       "spanNorm [V3 10.546971537365597 (-0.23105604403751903) (-3.50102050519263),V3 0.0 7.517924896174058 (-8.882025270298477)]"
      ]
     },
     "metadata": {},
     "output_type": "display_data"
    },
    {
     "data": {
      "text/plain": [
       "spanNorm [V3 10.546971537365598 (-0.2310560440375187) (-3.5010205051926313),V3 0.0 7.517924896174058 (-8.882025270298476)]"
      ]
     },
     "metadata": {},
     "output_type": "display_data"
    }
   ],
   "source": [
    "randomSnorm₀ = spanNorm [V3 (-5.0406) 6.7142 (-6.1288), V3 9.2645 3.3900 (-7.3202)] :: Seminorm ℝ³\n",
    "randomSnorm₁ = spanNorm [V3   4.5582  2.7252 (-5.9800), V3 (-4.8086) 2.15705 3.2654] :: Seminorm ℝ³\n",
    "sNsS = sharedNormSpanningSystem randomSnorm₀ randomSnorm₁\n",
    "sNsS\n",
    "randomSnorm₀\n",
    "spanNorm (fst <$> sNsS) :: Seminorm ℝ³"
   ]
  },
  {
   "cell_type": "code",
   "execution_count": 29,
   "metadata": {
    "collapsed": false
   },
   "outputs": [
    {
     "data": {
      "text/plain": [
       "[(V3 0.0 0.0 1.0,Just 0.0),(V3 1.0000000000000002 0.0 0.0,Just 0.9999999999999999),(V3 0.0 1.0 0.0,Nothing)]"
      ]
     },
     "metadata": {},
     "output_type": "display_data"
    }
   ],
   "source": [
    "sharedSeminormSpanningSystem (spanNorm [V3 1 0 0, V3 0 0 1]) (spanNorm [V3 1 0 0, V3 0 1 0] :: Norm ℝ³)"
   ]
  },
  {
   "cell_type": "code",
   "execution_count": 30,
   "metadata": {
    "collapsed": false
   },
   "outputs": [
    {
     "data": {
      "text/plain": [
       "[(V3 9.935443544667478 (-2.771314735590384) (-0.28101924375718523),Just 0.10336970974076731),(V3 4.100576113631922 6.8479514925330776 (-9.55778820883077),Just 0.5092326467511008),(V3 (-2.2892448438600692e-7) 5.302910260150294e-8 1.8549042090923186e-7,Just 2.5544206985563118e7)]"
      ]
     },
     "metadata": {},
     "output_type": "display_data"
    },
    {
     "data": {
      "text/plain": [
       "spanNorm [V3 10.546971537365597 (-0.23105604403751903) (-3.50102050519263),V3 0.0 7.517924896174058 (-8.882025270298477)]"
      ]
     },
     "metadata": {},
     "output_type": "display_data"
    },
    {
     "data": {
      "text/plain": [
       "spanNorm [V3 10.748384199169818 5.082672962788669e-2 (-3.906120964939249),V3 0.0 7.387289195052657 (-8.727686192083699),V3 0.0 4.652890945610781e-24 1.6622589207720393e-7]"
      ]
     },
     "metadata": {},
     "output_type": "display_data"
    },
    {
     "data": {
      "text/plain": [
       "spanNorm [V3 6.625694016478576 0.3093435955391932 (-6.483854873641208),V3 0.0 3.461775019032705 (-2.0935288719191725),V3 0.0 0.0 1.7763568394002505e-15]"
      ]
     },
     "metadata": {},
     "output_type": "display_data"
    },
    {
     "data": {
      "text/plain": [
       "spanNorm [V3 6.293700574148466 (-0.14834368375622015) (-6.022007681153318),V3 0.0 3.749070621661216 (-3.0512579219414193),V3 (-3.1554436208840472e-30) (-4.930380657631324e-31) 0.752140918773822]"
      ]
     },
     "metadata": {},
     "output_type": "display_data"
    }
   ],
   "source": [
    "sSnsS = sharedSeminormSpanningSystem randomSnorm₀ randomSnorm₁\n",
    "sSnsS\n",
    "randomSnorm₀\n",
    "spanNorm [dv | (dv, Just _)<-sSnsS] :: Seminorm ℝ³\n",
    "randomSnorm₁\n",
    "spanNorm $ [dv^*η | (dv, Just η)<-sSnsS]++[dv | (dv, Nothing)<-sSnsS] :: Seminorm ℝ³"
   ]
  },
  {
   "cell_type": "code",
   "execution_count": 32,
   "metadata": {
    "collapsed": false
   },
   "outputs": [
    {
     "data": {
      "text/plain": [
       "V3 2.049616010000001 12.0795797425 (-9.253064930000004)"
      ]
     },
     "metadata": {},
     "output_type": "display_data"
    },
    {
     "data": {
      "text/plain": [
       "V3 (-0.9336307276278212) 14.077536374713583 (-10.54605463123109)"
      ]
     },
     "metadata": {},
     "output_type": "display_data"
    }
   ],
   "source": [
    "spanNorm [V3 6.625694016478576 0.3093435955391932 (-6.483854873641208),V3 0.0 3.461775019032705 (-2.0935288719191725),V3 0.0 0.0 1.7763568394002505e-15]\n",
    "     <$| (V3 0 1 0 :: ℝ³)\n",
    "spanNorm [V3 6.293700574148466 (-0.14834368375622015) (-6.022007681153318),V3 0.0 3.749070621661216 (-3.0512579219414193),V3 (-3.1554436208840472e-30) (-4.930380657631324e-31) 0.752140918773822]\n",
    "     <$| (V3 0 1 0 :: ℝ³)"
   ]
  },
  {
   "cell_type": "code",
   "execution_count": null,
   "metadata": {
    "collapsed": true
   },
   "outputs": [],
   "source": []
  }
 ],
 "metadata": {
  "kernelspec": {
   "display_name": "Haskell",
   "language": "haskell",
   "name": "haskell"
  },
  "language_info": {
   "codemirror_mode": "ihaskell",
   "file_extension": ".hs",
   "name": "haskell",
   "version": "7.10.2"
  }
 },
 "nbformat": 4,
 "nbformat_minor": 0
}
