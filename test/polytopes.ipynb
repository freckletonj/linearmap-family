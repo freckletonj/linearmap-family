{
 "cells": [
  {
   "cell_type": "code",
   "execution_count": 1,
   "metadata": {
    "collapsed": true
   },
   "outputs": [],
   "source": [
    "import Math.LinearMap.Category\n",
    "import Data.VectorSpace\n",
    "import Linear.V2"
   ]
  },
  {
   "cell_type": "code",
   "execution_count": 2,
   "metadata": {
    "collapsed": false
   },
   "outputs": [],
   "source": [
    "import Graphics.Dynamic.Plot.R2\n",
    "import qualified Diagrams.Prelude as Dia"
   ]
  },
  {
   "cell_type": "code",
   "execution_count": 3,
   "metadata": {
    "collapsed": false
   },
   "outputs": [],
   "source": [
    "type ℝ² = V2 Double\n",
    "vPlot :: ℝ² -> DynamicPlottable\n",
    "vPlot v = plot \n",
    "       [ shapePlot (Dia.moveTo p $ Dia.circle 0.02)\n",
    "       | p <- Dia.P <$> [v, negateV v] ]\n",
    "dualVPlot :: DualVector ℝ² -> DynamicPlottable\n",
    "dualVPlot dv = plot\n",
    "       [ continFnPlot $ \\x -> recip dy - x * dx / (dy + 1e-12)\n",
    "       | V2 dx dy <- [dv, negateV dv] ]"
   ]
  },
  {
   "cell_type": "code",
   "execution_count": 4,
   "metadata": {
    "collapsed": false
   },
   "outputs": [
    {
     "data": {
      "text/plain": [
       "GraphWindowSpecR2{lBound=-1.3333333333333335, rBound=1.3333333333333335, bBound=-4.8000000000032, tBound=4.799999999996803, xResolution=640, yResolution=480}"
      ]
     },
     "metadata": {},
     "output_type": "display_data"
    }
   ],
   "source": [
    "plotWindow $ dualVPlot <$> [V2 0 1, V2 1 1, V2 1 (-0.5)]"
   ]
  },
  {
   "cell_type": "code",
   "execution_count": 5,
   "metadata": {
    "collapsed": false
   },
   "outputs": [
    {
     "data": {
      "text/plain": [
       "[V2 2.7755575615628914e-17 1.0,V2 0.5 (-1.0)]\n",
       "GraphWindowSpecR2{lBound=-1.1764179075240069, rBound=1.4518019628247345, bBound=-3.794169963127649, tBound=3.75101667695725, xResolution=640, yResolution=480}"
      ]
     },
     "metadata": {},
     "output_type": "display_data"
    }
   ],
   "source": [
    "let dvs = [V2 0 1, V2 1 1, V2 1 (-0.5)]\n",
    "    vs = symmetricPolytopeOuterVertices dvs :: [ℝ²]\n",
    " in do\n",
    "  print vs\n",
    "  plotWindow $ map dualVPlot dvs ++ map vPlot vs"
   ]
  },
  {
   "cell_type": "code",
   "execution_count": null,
   "metadata": {
    "collapsed": true
   },
   "outputs": [],
   "source": []
  }
 ],
 "metadata": {
  "kernelspec": {
   "display_name": "Haskell",
   "language": "haskell",
   "name": "haskell"
  },
  "language_info": {
   "codemirror_mode": "ihaskell",
   "file_extension": ".hs",
   "name": "haskell",
   "version": "7.10.2"
  }
 },
 "nbformat": 4,
 "nbformat_minor": 0
}
