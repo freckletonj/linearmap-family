{
 "cells": [
  {
   "cell_type": "code",
   "execution_count": 1,
   "metadata": {
    "collapsed": true
   },
   "outputs": [],
   "source": [
    ":opt no-lint\n",
    "{-# LANGUAGE TypeOperators #-}"
   ]
  },
  {
   "cell_type": "code",
   "execution_count": 2,
   "metadata": {
    "collapsed": true
   },
   "outputs": [],
   "source": [
    "import Math.LinearMap.Category\n",
    "import Data.VectorSpace\n",
    "import Prelude ()\n",
    "import Control.Category.Constrained.Prelude\n",
    "import Control.Arrow.Constrained\n",
    "type ℝ = Double\n",
    "import Linear (V2(..), V3(..), V4(..))\n",
    "type ℝ² = V2 ℝ"
   ]
  },
  {
   "cell_type": "code",
   "execution_count": 3,
   "metadata": {
    "collapsed": false
   },
   "outputs": [
    {
     "data": {
      "text/plain": [
       "ex.⊗V2 1.0 0.0 ^+^ ey.⊗V2 0.0 1.0"
      ]
     },
     "metadata": {},
     "output_type": "display_data"
    },
    {
     "data": {
      "text/plain": [
       "ex.⊗V2 0.0 1.0 ^+^ ey.⊗V2 1.0 0.0"
      ]
     },
     "metadata": {},
     "output_type": "display_data"
    }
   ],
   "source": [
    "type ST² = SymmetricTensor ℝ ℝ²\n",
    "\n",
    "diagT, offdiagT :: ST²\n",
    "diagT = squareV (V2 1 0)\n",
    "    ^+^ squareV (V2 0 1)\n",
    "offdiagT = squareV (V2 1 1)\n",
    "       ^-^ diagT\n",
    "getSymmetricTensor diagT\n",
    "getSymmetricTensor offdiagT"
   ]
  },
  {
   "cell_type": "code",
   "execution_count": 4,
   "metadata": {
    "collapsed": false
   },
   "outputs": [
    {
     "data": {
      "text/plain": [
       "[1.0,0.0,1.0]\n",
       "[0.0,1.4142135623730951,0.0]"
      ]
     },
     "metadata": {},
     "output_type": "display_data"
    }
   ],
   "source": [
    "forM_ [diagT,offdiagT] $ \\t ->\n",
    "  print $ ($[]) . snd $ decomposeLinMap (arr $ LinearFunction (<.>^t))"
   ]
  },
  {
   "cell_type": "code",
   "execution_count": 5,
   "metadata": {
    "collapsed": false
   },
   "outputs": [
    {
     "data": {
      "text/plain": [
       "[1.0,0.0,0.0]\n",
       "[0.0,1.0000000000000002,0.0]\n",
       "[0.0,0.0,1.0]"
      ]
     },
     "metadata": {},
     "output_type": "display_data"
    }
   ],
   "source": [
    "forM_ (enumerateSubBasis (entireBasis :: SubBasis ST²)) $ \\t ->\n",
    "  print $ ($[]) . snd $ decomposeLinMap (arr $ LinearFunction (<.>^t))"
   ]
  },
  {
   "cell_type": "code",
   "execution_count": 6,
   "metadata": {
    "collapsed": false
   },
   "outputs": [
    {
     "data": {
      "text/plain": [
       "[SymTensor {getSymmetricTensor = ex.⊗V2 0.5 0.0 ^+^ ey.⊗V2 0.0 0.5},SymTensor {getSymmetricTensor = ex.⊗V2 0.0 0.5 ^+^ ey.⊗V2 0.5 0.0}]"
      ]
     },
     "metadata": {},
     "output_type": "display_data"
    }
   ],
   "source": [
    "(id^*2\\$)<$>[diagT, offdiagT]"
   ]
  },
  {
   "cell_type": "code",
   "execution_count": 7,
   "metadata": {
    "collapsed": false
   },
   "outputs": [],
   "source": [
    "type ℝ³ = (ℝ, ℝ²)\n",
    "type ST³ = SymmetricTensor ℝ ℝ³"
   ]
  },
  {
   "cell_type": "code",
   "execution_count": 8,
   "metadata": {
    "collapsed": false
   },
   "outputs": [
    {
     "data": {
      "text/plain": [
       "13"
      ]
     },
     "metadata": {},
     "output_type": "display_data"
    }
   ],
   "source": [
    "length . dualBasisCandidates . zip [0..] . ($[]) . snd $ decomposeLinMap (id :: ST³+>ST³)\n",
    "-- pseudoInverse (id :: ST⁷+>ST⁷) $ diagT⁷"
   ]
  },
  {
   "cell_type": "code",
   "execution_count": 9,
   "metadata": {
    "collapsed": false
   },
   "outputs": [
    {
     "data": {
      "text/plain": [
       "Left ex.⊗(V3 0.0 0.0 0.0,V4 0.0 0.0 0.0 0.0) ^+^ Left ey.⊗(V3 0.0 0.0 0.0,V4 0.0 0.0 0.0 0.0) ^+^ Left ez.⊗(V3 0.0 0.0 1.0,V4 0.0 0.0 0.0 0.0) ^+^ Right ex.⊗(V3 0.0 0.0 0.0,V4 0.0 0.0 0.0 0.0) ^+^ Right ey.⊗(V3 0.0 0.0 0.0,V4 0.0 1.0 0.0 0.0) ^+^ Right ez.⊗(V3 0.0 0.0 0.0,V4 0.0 0.0 0.0 0.0) ^+^ Right ew.⊗(V3 0.0 0.0 0.0,V4 0.0 0.0 0.0 0.0)"
      ]
     },
     "metadata": {},
     "output_type": "display_data"
    },
    {
     "data": {
      "text/plain": [
       "Left ex.⊗(V3 0.0 0.0 0.0,V4 0.0 0.0 0.0 0.0) ^+^ Left ey.⊗(V3 0.0 0.0 0.0,V4 0.0 0.0 0.0 0.0) ^+^ Left ez.⊗(V3 0.0 0.0 0.0,V4 0.0 1.0 0.0 0.0) ^+^ Right ex.⊗(V3 0.0 0.0 0.0,V4 0.0 0.0 0.0 0.0) ^+^ Right ey.⊗(V3 0.0 0.0 1.0,V4 0.0 0.0 0.0 0.0) ^+^ Right ez.⊗(V3 0.0 0.0 0.0,V4 0.0 0.0 0.0 0.0) ^+^ Right ew.⊗(V3 0.0 0.0 0.0,V4 0.0 0.0 0.0 0.0)"
      ]
     },
     "metadata": {},
     "output_type": "display_data"
    }
   ],
   "source": [
    "type ℝ⁷ = (V3 ℝ, V4 ℝ)\n",
    "type ST⁷ = SymmetricTensor ℝ ℝ⁷\n",
    "\n",
    "diagT⁷, offdiagT⁷ :: ST⁷\n",
    "diagT⁷ = squareV (V3 0 0 1, V4 0 0 0 0)\n",
    "    ^+^ squareV (V3 0 0 0, V4 0 1 0 0)\n",
    "offdiagT⁷ = squareV (V3 0 0 1, V4 0 1 0 0)\n",
    "       ^-^ diagT⁷\n",
    "getSymmetricTensor diagT⁷\n",
    "getSymmetricTensor offdiagT⁷"
   ]
  },
  {
   "cell_type": "code",
   "execution_count": 10,
   "metadata": {
    "collapsed": false
   },
   "outputs": [
    {
     "data": {
      "text/plain": [
       "[SymTensor {getSymmetricTensor = Left ex.⊗(V3 0.0 0.0 0.0,V4 0.0 0.0 0.0 0.0) ^+^ Left ey.⊗(V3 0.0 0.0 0.0,V4 0.0 0.0 0.0 0.0) ^+^ Left ez.⊗(V3 0.0 0.0 0.5,V4 0.0 0.0 0.0 0.0) ^+^ Right ex.⊗(V3 0.0 0.0 0.0,V4 0.0 0.0 0.0 0.0) ^+^ Right ey.⊗(V3 0.0 0.0 0.0,V4 0.0 0.5 0.0 0.0) ^+^ Right ez.⊗(V3 0.0 0.0 0.0,V4 0.0 0.0 0.0 0.0) ^+^ Right ew.⊗(V3 0.0 0.0 0.0,V4 0.0 0.0 0.0 0.0)},SymTensor {getSymmetricTensor = Left ex.⊗(V3 0.0 0.0 0.0,V4 0.0 0.0 0.0 0.0) ^+^ Left ey.⊗(V3 0.0 0.0 0.0,V4 0.0 0.0 0.0 0.0) ^+^ Left ez.⊗(V3 0.0 0.0 0.0,V4 0.0 0.5 0.0 0.0) ^+^ Right ex.⊗(V3 0.0 0.0 0.0,V4 0.0 0.0 0.0 0.0) ^+^ Right ey.⊗(V3 0.0 0.0 0.5,V4 0.0 0.0 0.0 0.0) ^+^ Right ez.⊗(V3 0.0 0.0 0.0,V4 0.0 0.0 0.0 0.0) ^+^ Right ew.⊗(V3 0.0 0.0 0.0,V4 0.0 0.0 0.0 0.0)}]"
      ]
     },
     "metadata": {},
     "output_type": "display_data"
    }
   ],
   "source": [
    "(id^*2\\$)<$>[diagT⁷, offdiagT⁷]"
   ]
  }
 ],
 "metadata": {
  "kernelspec": {
   "display_name": "Haskell",
   "language": "haskell",
   "name": "haskell"
  },
  "language_info": {
   "codemirror_mode": "ihaskell",
   "file_extension": ".hs",
   "name": "haskell",
   "version": "7.10.2"
  }
 },
 "nbformat": 4,
 "nbformat_minor": 0
}
