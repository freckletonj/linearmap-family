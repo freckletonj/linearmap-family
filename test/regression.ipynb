{
 "cells": [
  {
   "cell_type": "code",
   "execution_count": 1,
   "metadata": {
    "collapsed": false
   },
   "outputs": [],
   "source": [
    "{-# LANGUAGE TypeOperators, ParallelListComp, ScopedTypeVariables, Rank2Types, UnicodeSyntax #-}\n",
    ":opt no-lint"
   ]
  },
  {
   "cell_type": "code",
   "execution_count": 2,
   "metadata": {
    "collapsed": true
   },
   "outputs": [],
   "source": [
    "import Data.VectorSpace\n",
    "import Math.LinearMap.Category\n",
    "import Prelude ()\n",
    "import Control.Category.Constrained.Prelude\n",
    "import Control.Arrow.Constrained\n",
    "import Data.Semigroup ((<>))\n",
    "type ℝ = Double"
   ]
  },
  {
   "cell_type": "code",
   "execution_count": 3,
   "metadata": {
    "collapsed": false
   },
   "outputs": [],
   "source": [
    "import System.Random\n",
    "import Control.Monad (replicateM)\n",
    "randomPoints <- replicateM 100 $ randomRIO (0,10) :: IO [ℝ]\n",
    "randomDeviations <- cycle <$> replicateM 165 `id` randomRIO (-0.1, 0.1) :: IO [ℝ]"
   ]
  },
  {
   "cell_type": "code",
   "execution_count": 4,
   "metadata": {
    "collapsed": false
   },
   "outputs": [
    {
     "data": {
      "text/plain": [
       "(1.0,1.0)\n",
       "(-2.0,1.9999999999999996)\n",
       "(14.299658115052473,2.904942191502414)"
      ]
     },
     "metadata": {},
     "output_type": "display_data"
    }
   ],
   "source": [
    "mapM_ print (\n",
    " linearRegressionW euclideanNorm\n",
    "    (\\x -> lfun $ \\(a,b) -> a*x + b)\n",
    " <$> [ [(0,1), (1,2), (2,3)]\n",
    "     , [(-2,6), (0,2), (1,0)]\n",
    "     , [(x, 14.3*x + 2.9 + δy) | x<-randomPoints\n",
    "                               | δy<-randomDeviations]\n",
    "     :: [(ℝ,ℝ)] ])"
   ]
  },
  {
   "cell_type": "code",
   "execution_count": 5,
   "metadata": {
    "collapsed": false
   },
   "outputs": [],
   "source": [
    "import Data.List (sort)\n",
    "newtype Take = Take (∀ a . Int -> [a] -> [a])\n",
    "takeSome' <- do\n",
    "   randomIndices <- replicateM 10000 $ randomRIO (0, 10000)\n",
    "   return $ Take (\\n xs -> let l = length xs\n",
    "                               go (i₀:i₁:is) xs'\n",
    "                                | (e:es, r) <- splitAt (i₁-i₀) xs'  = e : go (i₁:is) r\n",
    "                               go (i₀:is) (x₀:xs')  = x₀ : go is xs'\n",
    "                               go _ _ = []\n",
    "                           in go (sort . take n $ (`mod`l)<$>randomIndices) xs)\n",
    "takeSome :: Int -> [a] -> [a]\n",
    "Take takeSome = takeSome'"
   ]
  },
  {
   "cell_type": "code",
   "execution_count": 6,
   "metadata": {
    "collapsed": false
   },
   "outputs": [
    {
     "data": {
      "text/plain": [
       "((SymTensor {getSymmetricTensor = ex.⊗V2 (-5.008631851524115e-3) 0.4253389671849534 ^+^ ey.⊗V2 0.4253389671849534 0.6205986738204956},V2 3.473530098795891 (-2.34641695022583)),11.586738586425781)\n",
       "((SymTensor {getSymmetricTensor = ex.⊗V2 1.0789454504447349e-2 0.4932505943033295 ^+^ ey.⊗V2 0.4932505943033295 (-4.003504907768729e-2)},V2 2.9914524398550384 2.3934176099137403),3.1007622114702826)\n",
       "((SymTensor {getSymmetricTensor = ex.⊗V2 3.1091137636052313e-4 0.5103207479345682 ^+^ ey.⊗V2 0.5103207479345682 (-1.1255781164148715e-2)},V2 2.943478527740865 2.0121061168550227),3.9959890159668703)\n",
       "((SymTensor {getSymmetricTensor = ex.⊗V2 (-5.8481528602882804e-5) 0.49975382298783827 ^+^ ey.⊗V2 0.49975382298783827 7.162427177043185e-5},V2 3.0026251474533012 2.0026078618996905),3.9861427747366633)"
      ]
     },
     "metadata": {},
     "output_type": "display_data"
    }
   ],
   "source": [
    "import Linear.V2 (V2(..), _x, _y)\n",
    "\n",
    "mapM_ print (\n",
    " linearRegressionW euclideanNorm\n",
    "    (\\v -> lfun $ \\((a,b),c) -> a<.>^squareV v + b<.>^v + c)\n",
    " <$> [ takeSome n [ (V2 x y, 3*x + 2*y + x*y + 4 + δy)\n",
    "       | x<-randomPoints\n",
    "       , y<-randomPoints\n",
    "       | δy<-randomDeviations ]\n",
    "     | n <- [5, 6, 10, 500]] )"
   ]
  },
  {
   "cell_type": "code",
   "execution_count": 7,
   "metadata": {
    "collapsed": false
   },
   "outputs": [],
   "source": [
    "abc :: ((SymmetricTensor ℝ (V2 ℝ) +> ℝ, V2 ℝ +> ℝ), ℝ)\n",
    "abc =\n",
    " linearRegressionW euclideanNorm\n",
    "    (\\v -> lfun $ \\((a,b),c) -> (a $ squareV v) + (b $ v) + c)\n",
    "  $ [ (V2 x y, 3*x + 2*y + x*y + 4 + δy)\n",
    "       | x<-randomPoints\n",
    "       , y<-randomPoints\n",
    "       | δy<-randomDeviations ]\n",
    "((a,b),c) = abc"
   ]
  },
  {
   "cell_type": "code",
   "execution_count": 8,
   "metadata": {
    "collapsed": false
   },
   "outputs": [
    {
     "data": {
      "text/plain": [
       "2.999798042719789"
      ]
     },
     "metadata": {},
     "output_type": "display_data"
    },
    {
     "data": {
      "text/plain": [
       "2.0009425298164274"
      ]
     },
     "metadata": {},
     "output_type": "display_data"
    }
   ],
   "source": [
    "import Control.Lens\n",
    "import Math.LinearMap.Category.Derivatives\n",
    "\n",
    "b ^. (1*∂id/∂_x)\n",
    "b ^. (1*∂id/∂_y)"
   ]
  },
  {
   "cell_type": "code",
   "execution_count": 9,
   "metadata": {
    "collapsed": false
   },
   "outputs": [
    {
     "data": {
      "text/plain": [
       "5.7632660123374535e-5"
      ]
     },
     "metadata": {},
     "output_type": "display_data"
    },
    {
     "data": {
      "text/plain": [
       "0.9999159133245406"
      ]
     },
     "metadata": {},
     "output_type": "display_data"
    }
   ],
   "source": [
    "ðxx, ðxy :: Lens' (V2 ℝ⊗〃+>ℝ) ℝ\n",
    "ðxx = (1*∂id/∂_x.∂_x)\n",
    "ðxy = (1*∂id/∂_x.∂_y)\n",
    "a ^. ðxx\n",
    "a ^. ðxy"
   ]
  },
  {
   "cell_type": "code",
   "execution_count": 10,
   "metadata": {
    "collapsed": false
   },
   "outputs": [
    {
     "data": {
      "text/plain": [
       "4.0"
      ]
     },
     "metadata": {},
     "output_type": "display_data"
    },
    {
     "data": {
      "text/plain": [
       "0.9999159133245406"
      ]
     },
     "metadata": {},
     "output_type": "display_data"
    }
   ],
   "source": [
    "(a & ðxx .~ 4) ^. ðxx\n",
    "(a & ðxx .~ 4) ^. ðxy"
   ]
  },
  {
   "cell_type": "code",
   "execution_count": 11,
   "metadata": {
    "collapsed": false
   },
   "outputs": [
    {
     "data": {
      "text/plain": [
       "((0.0,0.0),[(0.0,2.0),(0.0,-2.0)])\n",
       "((0.0,0.0),[(-4.2460344483505125e15,4.2460344483505145e15),(4.2460344483505125e15,-4.2460344483505145e15)])\n",
       "((0.0,0.5),[(1.9611422589183607e-16,2.5),(3.843838827479988e-16,-3.5000000000000013)])\n",
       "((0.0,0.0),[(-4.503599627370494e15,4.503599627370496e15),(1.2009599006321318e16,-1.2009599006321322e16)])\n",
       "((1.0,1.0),[(-1.9999999999999998,2.0),(1.9999999999999998,-2.0),(1.9999999999999998,3.1401849173675503e-16),(-1.9999999999999998,-3.1401849173675503e-16)])"
      ]
     },
     "metadata": {},
     "output_type": "display_data"
    }
   ],
   "source": [
    "let n = euclideanNorm :: Norm ℝ\n",
    " in mapM_ (\\(m,dvs) -> print (m, convexPolytopeRepresentatives dvs :: [(ℝ,ℝ)]))\n",
    "     $ linearRegressionWExtremeVar (\\x -> lfun $ \\(a,b) -> a*x + b)\n",
    "     <$> [ [(-1,(0,n)), (0,(-1,n)), (0,(1,n)), (1,(0,n))]\n",
    "         , [( 0,(0,n)), (1,(-1,n)), (1,(1,n)), (2,(0,n))]\n",
    "         , [( 0,(0,n)), (1,(-1,n)), (1,(3,n)), (2,(0,n))]\n",
    "         , [( 0,(0,n)), (1,(-1,n)), (1,(3,scaleNorm (sqrt 3/3) n)), (2,(0,n))]\n",
    "         , [( 0,(0,n)), (0,(2,n)), (1,(1,n)), (1,(3,n))] ]"
   ]
  },
  {
   "cell_type": "markdown",
   "metadata": {
    "collapsed": true
   },
   "source": [
    "From [dynamic-plot](http://hackage.haskell.org/package/dynamic-plot):"
   ]
  },
  {
   "cell_type": "code",
   "execution_count": 12,
   "metadata": {
    "collapsed": false
   },
   "outputs": [],
   "source": [
    "import Graphics.Dynamic.Plot.R2\n",
    "import Data.Manifold.Shade ((|±|))"
   ]
  },
  {
   "cell_type": "code",
   "execution_count": 13,
   "metadata": {
    "collapsed": false,
    "scrolled": true
   },
   "outputs": [
    {
     "data": {
      "text/plain": [
       "((1.3007594251561025e-2,(0.9720688912324157,1.0220347394473663)),[(4.768054031313181e-2,(-5.842013611265602e-3,-9.441937157775972e-2)),(4.303334672581512e-2,(7.910492067963444e-2,1.9168376408331137e-2)),(2.9821750756779217e-2,(-5.5613170343463275e-2,5.585718634684596e-3)),(-2.5791847826019367e-2,(1.4504224650919328e-2,-5.83529013109633e-2)),(-4.720790007543039e-2,(-1.2307562626670662e-3,9.511646500792473e-2)),(5.3624962110344496e-2,(1.171784052362584e-2,0.11838202817489564)),(-4.5891010722877545e-2,(-6.785046937138133e-2,7.064585633746208e-2)),(-4.801120383560958e-2,(-9.133495028300118e-2,-7.349740330516589e-3)),(-2.7676664207006173e-2,(4.351969606823641e-2,-4.3991109301944664e-2))])"
      ]
     },
     "metadata": {},
     "output_type": "display_data"
    }
   ],
   "source": [
    "second convexPolytopeRepresentatives\n",
    " $ linearRegressionWExtremeVar (\\x -> lfun $ \\(c₀,(b₁,c₁)) -> c₀ + b₁*sin x + c₁*cos x)\n",
    "                              (takeSome 30 [ (x, (sqrt 2 * sin (x + pi/4) + δy, spanNorm [1/0.05]))\n",
    "                                           | x<-randomPoints\n",
    "                                           | δy<-randomDeviations ])\n",
    "    :: ((ℝ,(ℝ,ℝ)), [(ℝ,(ℝ,ℝ))])"
   ]
  },
  {
   "cell_type": "code",
   "execution_count": 14,
   "metadata": {
    "collapsed": false
   },
   "outputs": [
    {
     "data": {
      "text/plain": [
       "GraphWindowSpecR2{lBound=-1.3892143047161305, rBound=11.459961691577028, bBound=-1.8948412282702722, tBound=1.9993244364320613, xResolution=640, yResolution=480}"
      ]
     },
     "metadata": {},
     "output_type": "display_data"
    }
   ],
   "source": [
    "plotWindow [linregressionPlot (\\x -> lfun $ \\(c₀,(b₁,c₁)) -> c₀ + b₁*sin x + c₁*cos x)\n",
    "                              (takeSome 30 [ (x, sqrt 2 * sin (x + pi/4) + δy |±|[0.05])\n",
    "                                           | x<-randomPoints\n",
    "                                           | δy<-randomDeviations ])\n",
    "                              (const (<>)) ]"
   ]
  },
  {
   "cell_type": "markdown",
   "metadata": {},
   "source": [
    "![Plot of regression of a set of deviated sine-sampled function points, with uncertainties.](https://raw.githubusercontent.com/leftaroundabout/linearmap-family/master/test/images/regression-envi.png)"
   ]
  },
  {
   "cell_type": "code",
   "execution_count": 15,
   "metadata": {
    "collapsed": false
   },
   "outputs": [
    {
     "data": {
      "text/plain": [
       "GraphWindowSpecR2{lBound=-3.946526318751707, rBound=28.320733910851708, bBound=-5.782904275005686, tBound=7.283322977436324, xResolution=640, yResolution=480}"
      ]
     },
     "metadata": {},
     "output_type": "display_data"
    }
   ],
   "source": [
    "plotWindow [linregressionPlot (\\x -> lfun $ \\(c,(b,a)) -> a*x^2 + b*x + c)\n",
    "                              (takeSome 30 [ (x, x*(x - 3)/100 + δy |±|[0.05])\n",
    "                                           | x<-(+8)<$>randomPoints\n",
    "                                           | δy<-randomDeviations ])\n",
    "                              (const (<>)) ]"
   ]
  },
  {
   "cell_type": "code",
   "execution_count": 16,
   "metadata": {
    "collapsed": false
   },
   "outputs": [
    {
     "data": {
      "text/plain": [
       "GraphWindowSpecR2{lBound=-0.3333333333333333, rBound=2.333333333333333, bBound=-1.5, tBound=6.5, xResolution=640, yResolution=480}"
      ]
     },
     "metadata": {},
     "output_type": "display_data"
    }
   ],
   "source": [
    "x¦y = (x :: ℝ, (y::ℝ)|±|[0.5])\n",
    "plotWindow [linregressionPlot (\\x -> lfun $ \\(c,(b,a)) -> a*x^2 + b*x + c)\n",
    "                              [ 0¦0, 0¦1, 1¦1, 1¦2, 2¦4, 2¦5 ]\n",
    "                              (const (<>)) ]"
   ]
  },
  {
   "cell_type": "code",
   "execution_count": null,
   "metadata": {
    "collapsed": true
   },
   "outputs": [],
   "source": []
  }
 ],
 "metadata": {
  "kernelspec": {
   "display_name": "Haskell",
   "language": "haskell",
   "name": "haskell"
  },
  "language_info": {
   "codemirror_mode": "ihaskell",
   "file_extension": ".hs",
   "name": "haskell",
   "version": "7.10.2"
  }
 },
 "nbformat": 4,
 "nbformat_minor": 0
}
