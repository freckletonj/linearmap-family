{
 "cells": [
  {
   "cell_type": "code",
   "execution_count": 1,
   "metadata": {
    "collapsed": true
   },
   "outputs": [],
   "source": [
    "{-# LANGUAGE TypeOperators #-}\n",
    "import Math.LinearMap.Category\n",
    "import Data.VectorSpace\n",
    "import Data.VectorSpace.Free\n",
    "import Control.Category.Constrained.Prelude\n",
    "import Control.Arrow.Constrained\n",
    "import Prelude ()\n",
    ":opt no-lint"
   ]
  },
  {
   "cell_type": "code",
   "execution_count": 2,
   "metadata": {
    "collapsed": true
   },
   "outputs": [],
   "source": [
    "type ℝ = Double\n",
    "type ℝ³ = V3 ℝ"
   ]
  },
  {
   "cell_type": "code",
   "execution_count": 3,
   "metadata": {
    "collapsed": false
   },
   "outputs": [
    {
     "data": {
      "text/plain": [
       "ex.<V3 1.0 1.0 1.0 ^+^ ey.<V3 0.0 2.0 1.0 ^+^ ez.<V3 0.0 0.0 3.0"
      ]
     },
     "metadata": {},
     "output_type": "display_data"
    }
   ],
   "source": [
    "m :: LinearMap ℝ ℝ³ ℝ³\n",
    "m =  ex.<V3 1 1 1\n",
    " ^+^ ey.<V3 0 2 1\n",
    " ^+^ ez.<V3 0 0 3\n",
    "m"
   ]
  },
  {
   "cell_type": "code",
   "execution_count": 4,
   "metadata": {
    "collapsed": false
   },
   "outputs": [
    {
     "data": {
      "text/plain": [
       "[V3 1.0 0.0 0.0,V3 1.0 2.0 0.0,V3 1.0 1.0 3.0]"
      ]
     },
     "metadata": {},
     "output_type": "display_data"
    }
   ],
   "source": [
    "(m$) <$> [V3 1 0 0, V3 0 1 0, V3 0 0 1]"
   ]
  },
  {
   "cell_type": "code",
   "execution_count": 5,
   "metadata": {
    "collapsed": false
   },
   "outputs": [
    {
     "data": {
      "text/plain": [
       "V3 2.0 1.0 3.0"
      ]
     },
     "metadata": {},
     "output_type": "display_data"
    }
   ],
   "source": [
    "m $ V3 1 0 1"
   ]
  },
  {
   "cell_type": "code",
   "execution_count": 6,
   "metadata": {
    "collapsed": false
   },
   "outputs": [
    {
     "data": {
      "text/plain": [
       "(V3 1.0 2.0 0.0,V3 0.5 1.0 0.0)"
      ]
     },
     "metadata": {},
     "output_type": "display_data"
    }
   ],
   "source": [
    "m &&& m^/2 $ V3 0 1 0"
   ]
  },
  {
   "cell_type": "code",
   "execution_count": 7,
   "metadata": {
    "collapsed": false
   },
   "outputs": [
    {
     "data": {
      "text/plain": [
       "V3 0.8333333333333334 (-0.16666666666666666) 0.3333333333333333"
      ]
     },
     "metadata": {},
     "output_type": "display_data"
    }
   ],
   "source": [
    "m \\$ V3 1 0 1"
   ]
  },
  {
   "cell_type": "code",
   "execution_count": 8,
   "metadata": {
    "collapsed": false
   },
   "outputs": [
    {
     "data": {
      "text/plain": [
       "V3 1.0 0.0 1.0"
      ]
     },
     "metadata": {},
     "output_type": "display_data"
    }
   ],
   "source": [
    "m $ m \\$ V3 1 0 1"
   ]
  },
  {
   "cell_type": "code",
   "execution_count": 9,
   "metadata": {
    "collapsed": false
   },
   "outputs": [
    {
     "data": {
      "text/plain": [
       "(V3 1.0 2.0 3.0,V3 4.0 5.0 6.0)"
      ]
     },
     "metadata": {},
     "output_type": "display_data"
    }
   ],
   "source": [
    "mm = m *** m\n",
    "mm $ mm \\$ (V3 1 2 3,V3 4 5 6)"
   ]
  },
  {
   "cell_type": "code",
   "execution_count": 10,
   "metadata": {
    "collapsed": false
   },
   "outputs": [
    {
     "data": {
      "text/plain": [
       "ex.<V3 3.0 0.0 0.0 ^+^ ey.<V3 0.0 3.0 0.0 ^+^ ez.<V3 0.0 0.0 3.0"
      ]
     },
     "metadata": {},
     "output_type": "display_data"
    }
   ],
   "source": [
    "sampleLinearFunction $ (scale $ 3) :: ℝ³+>ℝ³"
   ]
  },
  {
   "cell_type": "code",
   "execution_count": 11,
   "metadata": {
    "collapsed": false
   },
   "outputs": [
    {
     "data": {
      "text/plain": [
       "[3.771607169233766,-3.0234108510575783,1.2518036818238114]"
      ]
     },
     "metadata": {},
     "output_type": "display_data"
    }
   ],
   "source": [
    "h :: ℝ³ +> ℝ³\n",
    "h =       ex.<V3  1   1 (-1)\n",
    "      ^+^ ey.<V3  1 (-2)  2\n",
    "      ^+^ ez.<V3(-1)  2   3\n",
    "\n",
    "ev_Eigenvalue <$> roughEigenSystem euclideanMetric h"
   ]
  },
  {
   "cell_type": "code",
   "execution_count": 12,
   "metadata": {
    "collapsed": false
   },
   "outputs": [
    {
     "data": {
      "text/plain": [
       "λ = 3.00000,\t±0.5\t: V3 0.2672612419124244 0.5345224838248488 0.8017837257372732\n",
       "\n",
       "λ = 3.64706,\t±0.3\t: V3 0.0 0.24253562503633297 0.9701425001453319\n",
       "λ = 1.96078e-2,\t±103.1\t: V3 0.6362090102803517 0.7484811885651197 (-0.18712029714127992)\n",
       "\n",
       "λ = 3.77178,\t±0.2\t: V3 (-0.1932469879202493) 0.3864939758404986 0.9018192769611634\n",
       "λ = -1.75202,\t±1.2\t: V3 0.7532587103138627 (-0.530520919629656) 0.38877868919425185\n",
       "\n",
       "λ = 3.80390,\t±0.1\t: V3 (-0.1849065960950487) 0.21852597720323938 0.9581523615834342\n",
       "λ = -2.77486,\t±0.4\t: V3 6.367375813173522e-2 (-0.9702520717258097) 0.23357347845411602\n",
       "λ = 0.97096,\t±1.1\t: V3 0.9806911864832496 0.10419843856384514 0.16549163771904837\n",
       "\n",
       "λ = 3.81924,\t±0.1\t: V3 (-0.24068696606683043) 0.33696175249356264 0.910234344398195\n",
       "λ = -3.02611,\t±0.2\t: V3 0.3842806943452703 (-0.8280881839570453) 0.4081645593927037\n",
       "λ = 1.20688,\t±0.4\t: V3 0.891290150466761 0.44802537533848424 6.982213641638736e-2\n",
       "\n",
       "λ = 3.82864,\t±9.1e-2\t: V3 (-0.211783297759486) 0.23569431524846018 0.9484703603959779\n",
       "λ = -3.07723,\t±0.1\t: V3 0.27026927469778994 (-0.9185127394152929) 0.28859810582563555\n",
       "λ = 1.24859,\t±0.2\t: V3 0.9392030419160958 0.3174626549554667 0.1308247253548766\n",
       "\n",
       "λ = 3.83471,\t±7.3e-2\t: V3 (-0.24049890797845316) 0.3157288619520088 0.9178646746616086\n",
       "λ = -3.09025,\t±9.4e-2\t: V3 0.30720109873608925 (-0.8722517573034492) 0.3805316764953798\n",
       "λ = 1.25554,\t±6.2e-2\t: V3 0.9207539085969232 0.3734864891954382 0.11278334181941416\n",
       "\n",
       "λ = 3.83866,\t±5.9e-2\t: V3 (-0.21915459952955602) 0.2506604804461073 0.9429425141797173\n",
       "λ = -3.09534,\t±7.4e-2\t: V3 0.30087104049234475 (-0.9019776887711984) 0.30969802381032585\n",
       "λ = 1.25669,\t±2.5e-2\t: V3 0.9281421650254307 0.35157584174896594 0.12225607960511517\n",
       "\n",
       "λ = 3.84123,\t±4.8e-2\t: V3 (-0.23702521157844098) 0.30307255121452287 0.9230200852508659\n",
       "λ = -3.09810,\t±5.9e-2\t: V3 0.296819400534025 (-0.8820730586817872) 0.36584882480934433\n",
       "λ = 1.25688,\t±1.0e-2\t: V3 0.9250498865157583 0.3606856634911855 0.11911574039188094\n",
       "\n",
       "λ = 3.84290,\t±3.8e-2\t: V3 (-0.2228471089266803) 0.26078617936575116 0.9393240839533683\n",
       "λ = -3.09981,\t±4.8e-2\t: V3 0.30394747496282126 (-0.8969355902131285) 0.32112688998704597\n",
       "λ = 1.25691,\t±4.1e-3\t: V3 0.9262586563734482 0.3570673825216207 0.12061420244901987\n",
       "\n",
       "λ = 3.84399,\t±3.1e-2\t: V3 (-0.23438620846062652) 0.29493231038089174 0.9263250172465609\n",
       "λ = -3.10091,\t±3.8e-2\t: V3 0.2967234798137083 (-0.8856933161580737) 0.35707495885340196\n",
       "λ = 1.25691,\t±1.7e-3\t: V3 0.9257528189590867 0.3585558282977759 0.12008095678749493\n",
       "\n",
       "λ = 3.84470,\t±2.5e-2\t: V3 (-0.22512142438495616) 0.26740625098226845 0.936917414299946\n",
       "λ = -3.10162,\t±3.1e-2\t: V3 0.3032045774341802 (-0.8946275051873059) 0.32818990110193386\n",
       "λ = 1.25691,\t±6.7e-4\t: V3 0.9259521199856117 0.3579602266983651 0.120321018929389"
      ]
     },
     "metadata": {},
     "output_type": "display_data"
    }
   ],
   "source": [
    "esyss = constructEigenSystem euclideanMetric (arr h) [V3 1 2 3]\n",
    "\n",
    "import Numeric (showGFloat)\n",
    "\n",
    "forM_ (take 12 esyss) $ \\vs -> do\n",
    "   forM_ vs $ \\ev -> putStrLn $ \"λ = \" ++ showGFloat (Just 5) (ev_Eigenvalue ev)\n",
    "                                \",\\t±\" ++ showGFloat (Just 1) (ev_Badness ev)\n",
    "                                \"\\t: \" ++ show (ev_Eigenvector ev)\n",
    "   putStrLn \"\""
   ]
  },
  {
   "cell_type": "code",
   "execution_count": 13,
   "metadata": {
    "collapsed": false
   },
   "outputs": [
    {
     "data": {
      "text/plain": [
       "V3 (-0.9460447951977673) 2.7822600298366593 (-0.9968852355696496)"
      ]
     },
     "metadata": {},
     "output_type": "display_data"
    },
    {
     "data": {
      "text/plain": [
       "V3 (-0.9201114914238139) 2.7464513377436455 (-1.107255728960085)"
      ]
     },
     "metadata": {},
     "output_type": "display_data"
    }
   ],
   "source": [
    "v = ev_Eigenvector $ esyss!!10!!1\n",
    "h $ v\n",
    "v ^* ((h$v)<.>v)"
   ]
  },
  {
   "cell_type": "code",
   "execution_count": 15,
   "metadata": {
    "collapsed": false
   },
   "outputs": [
    {
     "data": {
      "text/plain": [
       "[3.771607169233766,-3.0234108510575783,1.2518036818238114]"
      ]
     },
     "metadata": {},
     "output_type": "display_data"
    },
    {
     "data": {
      "text/plain": [
       "[3.06628901267476,-6.657612050870483e-2,2.8710783394531036e-4]"
      ]
     },
     "metadata": {},
     "output_type": "display_data"
    },
    {
     "data": {
      "text/plain": [
       "[3.000000000000001,2.9999999999999996]"
      ]
     },
     "metadata": {},
     "output_type": "display_data"
    },
    {
     "data": {
      "text/plain": [
       "[1.094948537734607,0.9872809799077535,0.9177704823576396]"
      ]
     },
     "metadata": {},
     "output_type": "display_data"
    },
    {
     "data": {
      "text/plain": [
       "[1.0,1.0,1.0]"
      ]
     },
     "metadata": {},
     "output_type": "display_data"
    }
   ],
   "source": [
    "ev_Eigenvalue <$> roughEigenSystem euclideanMetric\n",
    "     (    ex.<V3  1   1 (-1)\n",
    "      ^+^ ey.<V3  1 (-2)  2\n",
    "      ^+^ ez.<V3(-1)  2   3 :: ℝ³+>ℝ³ )\n",
    "ev_Eigenvalue <$> roughEigenSystem euclideanMetric\n",
    "     (    ex.<V3  1   1.1   1\n",
    "      ^+^ ey.<V3  1   1   1.1\n",
    "      ^+^ ez.<V3  1   1   1 :: ℝ³+>ℝ³ )\n",
    "ev_Eigenvalue <$> roughEigenSystem euclideanMetric\n",
    "     (    ex.<V3  1   1   1\n",
    "      ^+^ ey.<V3  1   1   1\n",
    "      ^+^ ez.<V3  1   1   1 :: ℝ³+>ℝ³ )\n",
    "ev_Eigenvalue <$> roughEigenSystem euclideanMetric\n",
    "     (    ex.<V3  1   0   0.1\n",
    "      ^+^ ey.<V3  0.2   1   0\n",
    "      ^+^ ez.<V3  0   0.1   1 :: ℝ³+>ℝ³ )\n",
    "ev_Eigenvalue <$> roughEigenSystem euclideanMetric\n",
    "     (    ex.<V3  1   0   0\n",
    "      ^+^ ey.<V3  0   1   0\n",
    "      ^+^ ez.<V3  0   0   1 :: ℝ³+>ℝ³ )"
   ]
  },
  {
   "cell_type": "code",
   "execution_count": 22,
   "metadata": {
    "collapsed": false
   },
   "outputs": [
    {
     "data": {
      "text/plain": [
       "λ = 3.00000,\t±2.6e-16\t: V3 0.5773502691896258 0.5773502691896258 0.5773502691896258\n",
       "λ = 0.00000,\t±NaN\t: V3 (-0.7071067811865476) 0.0 0.7071067811865476\n",
       "λ = 1.00000,\t±1.4\t: V3 0.0 1.0 0.0\n",
       "\n",
       "λ = 3.00000,\t±1.3e-16\t: V3 0.5773502691896257 0.5773502691896257 0.5773502691896257\n",
       "λ = 9.86076e-32,\t±5.9e15\t: V3 (-0.40824829046386313) 0.8164965809277259 (-0.40824829046386313)\n",
       "λ = 0.00000,\t±NaN\t: V3 (-0.7071067811865476) 0.0 0.7071067811865476\n",
       "\n",
       "λ = 3.00000,\t±2.6e-16\t: V3 0.5773502691896258 0.5773502691896258 0.5773502691896258\n",
       "λ = 3.00000,\t±2.6e-16\t: V3 0.5773502691896258 0.5773502691896258 0.5773502691896258\n",
       "λ = 0.00000,\t±NaN\t: V3 (-0.7071067811865476) 0.0 0.7071067811865476\n",
       "\n",
       "λ = 3.00000,\t±1.3e-16\t: V3 0.5773502691896257 0.5773502691896257 0.5773502691896257\n",
       "λ = 0.00000,\t±NaN\t: V3 (-0.7071067811865476) 0.0 0.7071067811865476\n",
       "\n",
       "λ = 3.00000,\t±2.6e-16\t: V3 0.5773502691896258 0.5773502691896258 0.5773502691896258\n",
       "λ = 0.00000,\t±NaN\t: V3 (-0.7071067811865476) 0.0 0.7071067811865476\n",
       "\n",
       "λ = 3.00000,\t±1.3e-16\t: V3 0.5773502691896257 0.5773502691896257 0.5773502691896257\n",
       "λ = 0.00000,\t±NaN\t: V3 (-0.7071067811865476) 0.0 0.7071067811865476\n",
       "\n",
       "λ = 3.00000,\t±2.6e-16\t: V3 0.5773502691896258 0.5773502691896258 0.5773502691896258\n",
       "λ = 0.00000,\t±NaN\t: V3 (-0.7071067811865476) 0.0 0.7071067811865476\n",
       "\n",
       "λ = 3.00000,\t±1.3e-16\t: V3 0.5773502691896257 0.5773502691896257 0.5773502691896257\n",
       "λ = 0.00000,\t±NaN\t: V3 (-0.7071067811865476) 0.0 0.7071067811865476\n",
       "\n",
       "λ = 3.00000,\t±2.6e-16\t: V3 0.5773502691896258 0.5773502691896258 0.5773502691896258\n",
       "λ = 0.00000,\t±NaN\t: V3 (-0.7071067811865476) 0.0 0.7071067811865476\n",
       "\n",
       "λ = 3.00000,\t±1.3e-16\t: V3 0.5773502691896257 0.5773502691896257 0.5773502691896257\n",
       "λ = 0.00000,\t±NaN\t: V3 (-0.7071067811865476) 0.0 0.7071067811865476\n",
       "\n",
       "λ = 3.00000,\t±2.6e-16\t: V3 0.5773502691896258 0.5773502691896258 0.5773502691896258\n",
       "λ = 0.00000,\t±NaN\t: V3 (-0.7071067811865476) 0.0 0.7071067811865476\n",
       "\n",
       "λ = 3.00000,\t±1.3e-16\t: V3 0.5773502691896257 0.5773502691896257 0.5773502691896257\n",
       "λ = 0.00000,\t±NaN\t: V3 (-0.7071067811865476) 0.0 0.7071067811865476"
      ]
     },
     "metadata": {},
     "output_type": "display_data"
    }
   ],
   "source": [
    "degenEsyss = constructEigenSystem euclideanMetric\n",
    "    (arr( ex.<V3  1   1   1\n",
    "      ^+^ ey.<V3  1   1   1\n",
    "      ^+^ ez.<V3  1   1   1 :: ℝ³+>ℝ³ ))\n",
    "    [ V3 0.5773502691896258 0.5773502691896258 0.5773502691896258\n",
    "    , V3 (-0.7071067811865476) 0.0 0.7071067811865476\n",
    "    , V3 0 1 0 ]\n",
    "\n",
    "forM_ (take 12 degenEsyss) $ \\vs -> do\n",
    "   forM_ vs $ \\ev -> putStrLn $ \"λ = \" ++ showGFloat (Just 5) (ev_Eigenvalue ev)\n",
    "                                \",\\t±\" ++ showGFloat (Just 1) (ev_Badness ev)\n",
    "                                \"\\t: \" ++ show (ev_Eigenvector ev)\n",
    "   putStrLn \"\""
   ]
  },
  {
   "cell_type": "code",
   "execution_count": null,
   "metadata": {
    "collapsed": true
   },
   "outputs": [],
   "source": []
  }
 ],
 "metadata": {
  "kernelspec": {
   "display_name": "Haskell",
   "language": "haskell",
   "name": "haskell"
  },
  "language_info": {
   "codemirror_mode": "ihaskell",
   "file_extension": ".hs",
   "name": "haskell",
   "version": "7.10.2"
  }
 },
 "nbformat": 4,
 "nbformat_minor": 0
}
