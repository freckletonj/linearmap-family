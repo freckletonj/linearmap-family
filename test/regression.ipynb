{
 "cells": [
  {
   "cell_type": "code",
   "execution_count": 1,
   "metadata": {
    "collapsed": false
   },
   "outputs": [],
   "source": [
    "{-# LANGUAGE TypeOperators, ParallelListComp, ScopedTypeVariables, Rank2Types, UnicodeSyntax #-}\n",
    ":opt no-lint"
   ]
  },
  {
   "cell_type": "code",
   "execution_count": 2,
   "metadata": {
    "collapsed": true
   },
   "outputs": [],
   "source": [
    "import Data.VectorSpace\n",
    "import Math.LinearMap.Category\n",
    "import Prelude ()\n",
    "import Control.Category.Constrained.Prelude\n",
    "type ℝ = Double"
   ]
  },
  {
   "cell_type": "code",
   "execution_count": 3,
   "metadata": {
    "collapsed": false
   },
   "outputs": [],
   "source": [
    "import System.Random\n",
    "import Control.Monad (replicateM)\n",
    "randomPoints <- replicateM 100 $ randomRIO (0,10) :: IO [ℝ]\n",
    "randomDeviations <- cycle <$> replicateM 165 `id` randomRIO (-0.1, 0.1) :: IO [ℝ]"
   ]
  },
  {
   "cell_type": "code",
   "execution_count": 4,
   "metadata": {
    "collapsed": false
   },
   "outputs": [
    {
     "data": {
      "text/plain": [
       "(1.0,1.0)\n",
       "(-2.0,1.9999999999999996)\n",
       "(14.30043273454546,2.902335291125837)"
      ]
     },
     "metadata": {},
     "output_type": "display_data"
    }
   ],
   "source": [
    "mapM_ print (\n",
    " linearRegressionW euclideanNorm\n",
    "    (\\x -> lfun $ \\(a,b) -> a*x + b)\n",
    " <$> [ [(0,1), (1,2), (2,3)]\n",
    "     , [(-2,6), (0,2), (1,0)]\n",
    "     , [(x, 14.3*x + 2.9 + δy) | x<-randomPoints\n",
    "                               | δy<-randomDeviations]\n",
    "     :: [(ℝ,ℝ)] ])"
   ]
  },
  {
   "cell_type": "code",
   "execution_count": 5,
   "metadata": {
    "collapsed": false
   },
   "outputs": [],
   "source": [
    "import Data.List (sort)\n",
    "newtype Take = Take (∀ a . Int -> [a] -> [a])\n",
    "takeSome' <- do\n",
    "   randomIndices <- replicateM 10000 $ randomRIO (0, 10000)\n",
    "   return $ Take (\\n xs -> let l = length xs\n",
    "                               go (i₀:i₁:is) xs'\n",
    "                                | (e:es, r) <- splitAt (i₁-i₀) xs'  = e : go (i₁:is) r\n",
    "                               go (i₀:is) (x₀:xs')  = x₀ : go is xs'\n",
    "                               go _ _ = []\n",
    "                           in go (sort . take n $ (`mod`l)<$>randomIndices) xs)\n",
    "takeSome :: Int -> [a] -> [a]\n",
    "Take takeSome = takeSome'"
   ]
  },
  {
   "cell_type": "code",
   "execution_count": 6,
   "metadata": {
    "collapsed": false
   },
   "outputs": [
    {
     "data": {
      "text/plain": [
       "((SymTensor {getSymmetricTensor = ex.⊗V2 1.4764217659831047e-2 0.20196931544951582 ^+^ ey.⊗V2 0.20196931544951582 0.524045255035162},V2 5.664306163787842 (-0.36726121604442596)),3.7917109355330467)\n",
       "((SymTensor {getSymmetricTensor = ex.⊗V2 (-2.018501994387023e-2) 0.4863668100652247 ^+^ ey.⊗V2 0.4863668100652247 5.366703206368584e-2},V2 3.4032321264439815 1.5383411331108618),4.125791521379142)\n",
       "((SymTensor {getSymmetricTensor = ex.⊗V2 8.487245695754098e-4 0.503252227259141 ^+^ ey.⊗V2 0.503252227259141 (-5.148376967220258e-3)},V2 2.9559152502942823 2.0267742239693263),4.071646522187848)\n",
       "((SymTensor {getSymmetricTensor = ex.⊗V2 (-3.928365862648775e-5) 0.4999193604125227 ^+^ ey.⊗V2 0.4999193604125227 (-2.2165752794478522e-4)},V2 3.0008262090145195 2.0049998995953615),3.9833497589634135)"
      ]
     },
     "metadata": {},
     "output_type": "display_data"
    }
   ],
   "source": [
    "import Linear.V2 (V2(..), _x, _y)\n",
    "\n",
    "mapM_ print (\n",
    " linearRegressionW euclideanNorm\n",
    "    (\\v -> lfun $ \\((a,b),c) -> a<.>^squareV v + b<.>^v + c)\n",
    " <$> [ takeSome n [ (V2 x y, 3*x + 2*y + x*y + 4 + δy)\n",
    "       | x<-randomPoints\n",
    "       , y<-randomPoints\n",
    "       | δy<-randomDeviations ]\n",
    "     | n <- [5, 6, 10, 500]] )"
   ]
  },
  {
   "cell_type": "code",
   "execution_count": 7,
   "metadata": {
    "collapsed": false
   },
   "outputs": [],
   "source": [
    "abc :: ((SymmetricTensor ℝ (V2 ℝ) +> ℝ, V2 ℝ +> ℝ), ℝ)\n",
    "abc =\n",
    " linearRegressionW euclideanNorm\n",
    "    (\\v -> lfun $ \\((a,b),c) -> (a $ squareV v) + (b $ v) + c)\n",
    "  $ [ (V2 x y, 3*x + 2*y + x*y + 4 + δy)\n",
    "       | x<-randomPoints\n",
    "       , y<-randomPoints\n",
    "       | δy<-randomDeviations ]\n",
    "((a,b),c) = abc"
   ]
  },
  {
   "cell_type": "code",
   "execution_count": 8,
   "metadata": {
    "collapsed": false
   },
   "outputs": [
    {
     "data": {
      "text/plain": [
       "3.000578466315119"
      ]
     },
     "metadata": {},
     "output_type": "display_data"
    },
    {
     "data": {
      "text/plain": [
       "2.000676524590631"
      ]
     },
     "metadata": {},
     "output_type": "display_data"
    }
   ],
   "source": [
    "import Control.Lens\n",
    "import Math.LinearMap.Category.Derivatives\n",
    "\n",
    "b ^. (1*∂id/∂_x)\n",
    "b ^. (1*∂id/∂_y)"
   ]
  },
  {
   "cell_type": "code",
   "execution_count": 9,
   "metadata": {
    "collapsed": false
   },
   "outputs": [
    {
     "data": {
      "text/plain": [
       "-4.955132155259889e-5"
      ]
     },
     "metadata": {},
     "output_type": "display_data"
    },
    {
     "data": {
      "text/plain": [
       "0.9999132161783449"
      ]
     },
     "metadata": {},
     "output_type": "display_data"
    }
   ],
   "source": [
    "ðxx, ðxy :: Lens' (V2 ℝ⊗〃+>ℝ) ℝ\n",
    "ðxx = (1*∂id/∂_x.∂_x)\n",
    "ðxy = (1*∂id/∂_x.∂_y)\n",
    "a ^. ðxx\n",
    "a ^. ðxy"
   ]
  },
  {
   "cell_type": "code",
   "execution_count": 10,
   "metadata": {
    "collapsed": false
   },
   "outputs": [
    {
     "data": {
      "text/plain": [
       "4.0"
      ]
     },
     "metadata": {},
     "output_type": "display_data"
    },
    {
     "data": {
      "text/plain": [
       "0.9999132161783449"
      ]
     },
     "metadata": {},
     "output_type": "display_data"
    }
   ],
   "source": [
    "(a & ðxx .~ 4) ^. ðxx\n",
    "(a & ðxx .~ 4) ^. ðxy"
   ]
  },
  {
   "cell_type": "code",
   "execution_count": null,
   "metadata": {
    "collapsed": true
   },
   "outputs": [],
   "source": []
  }
 ],
 "metadata": {
  "kernelspec": {
   "display_name": "Haskell",
   "language": "haskell",
   "name": "haskell"
  },
  "language_info": {
   "codemirror_mode": "ihaskell",
   "file_extension": ".hs",
   "name": "haskell",
   "version": "7.10.2"
  }
 },
 "nbformat": 4,
 "nbformat_minor": 0
}
