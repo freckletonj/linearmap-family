{
 "cells": [
  {
   "cell_type": "code",
   "execution_count": null,
   "metadata": {
    "collapsed": true
   },
   "outputs": [],
   "source": [
    "import Math.LinearMap.Category\n",
    "import Linear.V2"
   ]
  },
  {
   "cell_type": "code",
   "execution_count": null,
   "metadata": {
    "collapsed": false
   },
   "outputs": [],
   "source": [
    "import Graphics.Dynamic.Plot.R2\n",
    "import qualified Diagrams.Prelude as Dia"
   ]
  },
  {
   "cell_type": "code",
   "execution_count": null,
   "metadata": {
    "collapsed": false
   },
   "outputs": [],
   "source": [
    "type ℝ² = V2 Double\n",
    "vPlot :: ℝ² -> DynamicPlottable\n",
    "vPlot p = shapePlot (Dia.moveTo (Dia.P p) $ Dia.circle 0.02)\n",
    "dualVPlot :: DualVector ℝ² -> DynamicPlottable\n",
    "dualVPlot (V2 dx dy) = continFnPlot $ \\x -> recip dy - x * dx / (dy + 1e-12)"
   ]
  },
  {
   "cell_type": "code",
   "execution_count": null,
   "metadata": {
    "collapsed": false
   },
   "outputs": [],
   "source": [
    "plotWindow $ dualVPlot <$> [V2 0 1, V2 1 1, V2 1 (-0.5)]"
   ]
  },
  {
   "cell_type": "code",
   "execution_count": null,
   "metadata": {
    "collapsed": true
   },
   "outputs": [],
   "source": [
    "let dvs = [V2 0 1, V2 1 1, V2 1 (-0.5)]\n",
    " in plotWindow $ map dualVPlot dvs\n",
    "              ++ map vPlot (symmetricPolytopeOuterVertices dvs)"
   ]
  }
 ],
 "metadata": {
  "kernelspec": {
   "display_name": "Haskell",
   "language": "haskell",
   "name": "haskell"
  },
  "language_info": {
   "codemirror_mode": "ihaskell",
   "file_extension": ".hs",
   "name": "haskell",
   "version": "7.10.2"
  }
 },
 "nbformat": 4,
 "nbformat_minor": 0
}
