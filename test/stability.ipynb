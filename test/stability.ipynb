{
 "cells": [
  {
   "cell_type": "code",
   "execution_count": 1,
   "metadata": {
    "collapsed": false
   },
   "outputs": [],
   "source": [
    "import Math.LinearMap.Category\n",
    "import Linear (V2(..), ex, ey)\n",
    "import Data.VectorSpace\n",
    "import Control.Arrow.Constrained (arr)\n",
    "import Data.Monoid"
   ]
  },
  {
   "cell_type": "code",
   "execution_count": 2,
   "metadata": {
    "collapsed": false
   },
   "outputs": [],
   "source": [
    "type ℝ = Double\n",
    "type V = (ℝ, V2 ℝ)"
   ]
  },
  {
   "cell_type": "code",
   "execution_count": 3,
   "metadata": {
    "collapsed": false
   },
   "outputs": [],
   "source": [
    "nv = Norm (arr $ Left ().<(0.8888173131616077,V2 0.0 0.0)\n",
    "            ^+^ Right ex.<(0.0,V2 1.1867067637481217 (-0.12964787667990596))\n",
    "            ^+^ Right ey.<(0.0,V2 (-0.12964787667990596) 2.394245978935528)) :: Norm V\n",
    "ns = spanNorm [(3.1429796403675136,V2 0.0 0.0)] :: Norm V"
   ]
  },
  {
   "cell_type": "code",
   "execution_count": 4,
   "metadata": {
    "collapsed": false
   },
   "outputs": [
    {
     "data": {
      "text/plain": [
       "[((0.0,V2 1.0890941067895934 (-0.15311349468806273)),Just NaN),((0.0,V2 2.4099591372059262e-2 1.5397409641494693),Just 0.0),((0.9427710820563006,V2 0.0 0.0),Just 3.3337675499255726)]"
      ]
     },
     "metadata": {},
     "output_type": "display_data"
    }
   ],
   "source": [
    "sharedSeminormSpanningSystem nv ns"
   ]
  },
  {
   "cell_type": "code",
   "execution_count": null,
   "metadata": {
    "collapsed": true
   },
   "outputs": [],
   "source": []
  }
 ],
 "metadata": {
  "kernelspec": {
   "display_name": "Haskell",
   "language": "haskell",
   "name": "haskell"
  },
  "language_info": {
   "codemirror_mode": "ihaskell",
   "file_extension": ".hs",
   "name": "haskell",
   "version": "7.10.2"
  }
 },
 "nbformat": 4,
 "nbformat_minor": 0
}
